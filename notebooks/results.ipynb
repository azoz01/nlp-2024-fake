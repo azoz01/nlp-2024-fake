{
 "cells": [
  {
   "cell_type": "code",
   "execution_count": 1,
   "metadata": {},
   "outputs": [
    {
     "name": "stderr",
     "output_type": "stream",
     "text": [
      "/home/mikolaj3/nlp-2024-fake/.venv/lib/python3.10/site-packages/tqdm/auto.py:21: TqdmWarning: IProgress not found. Please update jupyter and ipywidgets. See https://ipywidgets.readthedocs.io/en/stable/user_install.html\n",
      "  from .autonotebook import tqdm as notebook_tqdm\n"
     ]
    },
    {
     "name": "stdout",
     "output_type": "stream",
     "text": [
      "CUDA is available. Using GPU.\n"
     ]
    }
   ],
   "source": [
    "import os\n",
    "os.chdir(\"..\")\n",
    "\n",
    "from engine.utils import get_device\n",
    "from engine.result_processor import *    \n",
    "device = get_device()"
   ]
  },
  {
   "cell_type": "code",
   "execution_count": 2,
   "metadata": {},
   "outputs": [
    {
     "data": {
      "text/plain": [
       "'/home/mikolaj3/nlp-2024-fake'"
      ]
     },
     "execution_count": 2,
     "metadata": {},
     "output_type": "execute_result"
    }
   ],
   "source": [
    "os.getcwd()"
   ]
  },
  {
   "cell_type": "code",
   "execution_count": 6,
   "metadata": {},
   "outputs": [
    {
     "data": {
      "text/html": [
       "<div>\n",
       "<style scoped>\n",
       "    .dataframe tbody tr th:only-of-type {\n",
       "        vertical-align: middle;\n",
       "    }\n",
       "\n",
       "    .dataframe tbody tr th {\n",
       "        vertical-align: top;\n",
       "    }\n",
       "\n",
       "    .dataframe thead th {\n",
       "        text-align: right;\n",
       "    }\n",
       "</style>\n",
       "<table border=\"1\" class=\"dataframe\">\n",
       "  <thead>\n",
       "    <tr style=\"text-align: right;\">\n",
       "      <th></th>\n",
       "      <th>model</th>\n",
       "      <th>dataset</th>\n",
       "      <th>training_type</th>\n",
       "      <th>run</th>\n",
       "      <th>accuracy</th>\n",
       "    </tr>\n",
       "  </thead>\n",
       "  <tbody>\n",
       "    <tr>\n",
       "      <th>18</th>\n",
       "      <td>ernie</td>\n",
       "      <td>coaid</td>\n",
       "      <td>masked</td>\n",
       "      <td>1</td>\n",
       "      <td>0.980769</td>\n",
       "    </tr>\n",
       "    <tr>\n",
       "      <th>21</th>\n",
       "      <td>ernie</td>\n",
       "      <td>coaid</td>\n",
       "      <td>unmasked</td>\n",
       "      <td>1</td>\n",
       "      <td>0.979853</td>\n",
       "    </tr>\n",
       "    <tr>\n",
       "      <th>30</th>\n",
       "      <td>ernie</td>\n",
       "      <td>isot</td>\n",
       "      <td>masked</td>\n",
       "      <td>1</td>\n",
       "      <td>0.985857</td>\n",
       "    </tr>\n",
       "    <tr>\n",
       "      <th>33</th>\n",
       "      <td>ernie</td>\n",
       "      <td>isot</td>\n",
       "      <td>unmasked</td>\n",
       "      <td>1</td>\n",
       "      <td>0.983964</td>\n",
       "    </tr>\n",
       "    <tr>\n",
       "      <th>7</th>\n",
       "      <td>ernie</td>\n",
       "      <td>liar</td>\n",
       "      <td>masked</td>\n",
       "      <td>2</td>\n",
       "      <td>0.700629</td>\n",
       "    </tr>\n",
       "    <tr>\n",
       "      <th>11</th>\n",
       "      <td>ernie</td>\n",
       "      <td>liar</td>\n",
       "      <td>unmasked</td>\n",
       "      <td>3</td>\n",
       "      <td>0.676730</td>\n",
       "    </tr>\n",
       "    <tr>\n",
       "      <th>13</th>\n",
       "      <td>roberta</td>\n",
       "      <td>coaid</td>\n",
       "      <td>masked</td>\n",
       "      <td>2</td>\n",
       "      <td>0.984432</td>\n",
       "    </tr>\n",
       "    <tr>\n",
       "      <th>16</th>\n",
       "      <td>roberta</td>\n",
       "      <td>coaid</td>\n",
       "      <td>unmasked</td>\n",
       "      <td>2</td>\n",
       "      <td>0.981685</td>\n",
       "    </tr>\n",
       "    <tr>\n",
       "      <th>26</th>\n",
       "      <td>roberta</td>\n",
       "      <td>isot</td>\n",
       "      <td>masked</td>\n",
       "      <td>3</td>\n",
       "      <td>0.999332</td>\n",
       "    </tr>\n",
       "    <tr>\n",
       "      <th>28</th>\n",
       "      <td>roberta</td>\n",
       "      <td>isot</td>\n",
       "      <td>unmasked</td>\n",
       "      <td>2</td>\n",
       "      <td>0.999443</td>\n",
       "    </tr>\n",
       "    <tr>\n",
       "      <th>2</th>\n",
       "      <td>roberta</td>\n",
       "      <td>liar</td>\n",
       "      <td>masked</td>\n",
       "      <td>3</td>\n",
       "      <td>0.683019</td>\n",
       "    </tr>\n",
       "    <tr>\n",
       "      <th>5</th>\n",
       "      <td>roberta</td>\n",
       "      <td>liar</td>\n",
       "      <td>unmasked</td>\n",
       "      <td>3</td>\n",
       "      <td>0.680503</td>\n",
       "    </tr>\n",
       "  </tbody>\n",
       "</table>\n",
       "</div>"
      ],
      "text/plain": [
       "      model dataset training_type run  accuracy\n",
       "18    ernie   coaid        masked   1  0.980769\n",
       "21    ernie   coaid      unmasked   1  0.979853\n",
       "30    ernie    isot        masked   1  0.985857\n",
       "33    ernie    isot      unmasked   1  0.983964\n",
       "7     ernie    liar        masked   2  0.700629\n",
       "11    ernie    liar      unmasked   3  0.676730\n",
       "13  roberta   coaid        masked   2  0.984432\n",
       "16  roberta   coaid      unmasked   2  0.981685\n",
       "26  roberta    isot        masked   3  0.999332\n",
       "28  roberta    isot      unmasked   2  0.999443\n",
       "2   roberta    liar        masked   3  0.683019\n",
       "5   roberta    liar      unmasked   3  0.680503"
      ]
     },
     "execution_count": 6,
     "metadata": {},
     "output_type": "execute_result"
    }
   ],
   "source": [
    "from pathlib import Path\n",
    "\n",
    "models = Path(\"output\")\n",
    "models_df  = get_training_data(models, parse_accuracies=True)\n",
    "models_df = models_df.loc[models_df.groupby([\"model\", \"dataset\", \"training_type\"])[\"accuracy\"].idxmax(), ]\n",
    "models_df"
   ]
  },
  {
   "cell_type": "code",
   "execution_count": null,
   "metadata": {},
   "outputs": [],
   "source": [
    "results, results_misc = process_models(models_df, device)"
   ]
  },
  {
   "cell_type": "code",
   "execution_count": null,
   "metadata": {},
   "outputs": [],
   "source": [
    "import json\n",
    "import pickle as pkl\n",
    "\n",
    "with open(\"results.json\", \"w\") as file:\n",
    "    json.dump(results, file)\n",
    "    \n",
    "with open('results_misc.pkl', 'wb') as file:\n",
    "    pkl.dump(results_misc, file)"
   ]
  }
 ],
 "metadata": {
  "kernelspec": {
   "display_name": "dl",
   "language": "python",
   "name": "python3"
  },
  "language_info": {
   "codemirror_mode": {
    "name": "ipython",
    "version": 3
   },
   "file_extension": ".py",
   "mimetype": "text/x-python",
   "name": "python",
   "nbconvert_exporter": "python",
   "pygments_lexer": "ipython3",
   "version": "3.10.15"
  }
 },
 "nbformat": 4,
 "nbformat_minor": 2
}
