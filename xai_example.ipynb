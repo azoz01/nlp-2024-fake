{
 "cells": [
  {
   "cell_type": "markdown",
   "metadata": {},
   "source": [
    "### Question: does `model` returns `[0 prob, 1 prob]` before softmax?"
   ]
  },
  {
   "cell_type": "code",
   "execution_count": 1,
   "metadata": {},
   "outputs": [
    {
     "name": "stderr",
     "output_type": "stream",
     "text": [
      "c:\\Users\\1234o\\Studies\\Sem2\\NLP\\.venv\\Lib\\site-packages\\tqdm\\auto.py:21: TqdmWarning: IProgress not found. Please update jupyter and ipywidgets. See https://ipywidgets.readthedocs.io/en/stable/user_install.html\n",
      "  from .autonotebook import tqdm as notebook_tqdm\n"
     ]
    }
   ],
   "source": [
    "from transformers import (\n",
    "    AutoModelForSequenceClassification,\n",
    "    AutoTokenizer,\n",
    "    AutoConfig,\n",
    "    TextClassificationPipeline,\n",
    ")\n",
    "from engine.data import prepare_data_for_fine_tuning, read_data\n",
    "from engine.xai import FeatureAblationText"
   ]
  },
  {
   "cell_type": "code",
   "execution_count": 2,
   "metadata": {},
   "outputs": [],
   "source": [
    "MODEL_ID = \"roberta-base\"\n",
    "MODEL_PATH = \"output/checkpoint-2025/model.safetensors\"\n",
    "tokenizer = AutoTokenizer.from_pretrained(MODEL_ID)"
   ]
  },
  {
   "cell_type": "code",
   "execution_count": 3,
   "metadata": {},
   "outputs": [
    {
     "name": "stderr",
     "output_type": "stream",
     "text": [
      "Map: 100%|██████████| 795/795 [00:00<00:00, 2666.09 examples/s]\n"
     ]
    }
   ],
   "source": [
    "test = read_data(\"data/split_raw/test.tsv\")\n",
    "# print(test)\n",
    "test_dataset = prepare_data_for_fine_tuning(test, tokenizer)"
   ]
  },
  {
   "cell_type": "code",
   "execution_count": 4,
   "metadata": {},
   "outputs": [],
   "source": [
    "import torch\n",
    "def get_device():\n",
    "    if torch.cuda.is_available():\n",
    "        print(\"CUDA is available. Using GPU.\")\n",
    "        return \"cuda\"\n",
    "    else:\n",
    "        print(\"CUDA not available. Using CPU.\")\n",
    "        return \"cpu\""
   ]
  },
  {
   "cell_type": "markdown",
   "metadata": {},
   "source": []
  },
  {
   "cell_type": "code",
   "execution_count": 5,
   "metadata": {},
   "outputs": [
    {
     "name": "stdout",
     "output_type": "stream",
     "text": [
      "CUDA not available. Using CPU.\n"
     ]
    }
   ],
   "source": [
    "config = AutoConfig.from_pretrained(MODEL_ID)\n",
    "device = get_device()\n",
    "model = AutoModelForSequenceClassification.from_pretrained(\n",
    "    MODEL_PATH, config=config\n",
    ")\n",
    "model.eval()\n",
    "pipeline = TextClassificationPipeline(\n",
    "    model=model, tokenizer=tokenizer, top_k=2, device=device\n",
    ")"
   ]
  },
  {
   "cell_type": "code",
   "execution_count": 6,
   "metadata": {},
   "outputs": [],
   "source": [
    "%%capture\n",
    "if(device == \"cuda\"):\n",
    "    model.cuda()\n",
    "else:\n",
    "    model.cpu()"
   ]
  },
  {
   "cell_type": "code",
   "execution_count": 7,
   "metadata": {},
   "outputs": [
    {
     "name": "stdout",
     "output_type": "stream",
     "text": [
      "Fifty-six percent decline in overall crime. A 73 percent decline in motor-vehicle theft. A 67 percent decline in robbery. A 66 percent decline in murder. This is way beyond what happened in the nation during this period of time.\n",
      "tensor([[    0,   597, 22129,    12, 13664,   135,  2991,    11,  1374,  1846,\n",
      "             4,    83,  6521,   135,  2991,    11,  4243,    12, 17855, 11317,\n",
      "          5751,     4,    83,  5545,   135,  2991,    11,  6279,     4,    83,\n",
      "          5138,   135,  2991,    11,  1900,     4,   152,    16,   169,  1684,\n",
      "            99,  1102,    11,     5,  1226,   148,    42,   675,     9,    86,\n",
      "             4,     2]])\n"
     ]
    }
   ],
   "source": [
    "obs = test[\"text\"].tolist()[579]\n",
    "if(device == \"cuda\"):\n",
    "    obs_pt = pipeline.tokenizer(obs, return_tensors=\"pt\")['input_ids'].cuda()\n",
    "else:\n",
    "    obs_pt = pipeline.tokenizer(obs, return_tensors=\"pt\")['input_ids'].cpu()\n",
    "\n",
    "print(obs)\n",
    "print(obs_pt)\n"
   ]
  },
  {
   "cell_type": "code",
   "execution_count": 8,
   "metadata": {},
   "outputs": [],
   "source": [
    "def forward(obs):\n",
    "    return model(obs).logits"
   ]
  },
  {
   "cell_type": "code",
   "execution_count": 9,
   "metadata": {},
   "outputs": [
    {
     "name": "stdout",
     "output_type": "stream",
     "text": [
      "<engine.xai.FeatureAblationText object at 0x0000023631FE1D30>\n"
     ]
    },
    {
     "data": {
      "text/plain": [
       "tensor([[[ 0.0000e+00,  4.9621e-06,  8.8066e-06,  3.8594e-06,  7.4357e-06,\n",
       "           1.0684e-05,  1.0982e-05,  7.3612e-06,  9.5218e-06,  4.0531e-06,\n",
       "           4.0382e-06,  4.1127e-06,  3.5316e-06,  1.0267e-05,  1.1295e-05,\n",
       "           8.1062e-06,  4.1127e-06,  6.2287e-06,  1.0163e-05,  1.0222e-05,\n",
       "           2.2799e-06,  4.5598e-06,  4.2915e-06,  2.1160e-06,  8.4639e-06,\n",
       "           9.8199e-06,  5.2899e-06,  1.5199e-06,  2.6524e-06,  2.3842e-06,\n",
       "           1.7881e-07,  5.2899e-06,  5.3346e-06,  5.0664e-07, -3.5316e-06,\n",
       "          -2.3991e-06,  2.8312e-07, -5.9605e-07, -3.4273e-07,  2.1309e-06,\n",
       "          -4.1723e-07, -1.4901e-07,  1.5646e-06, -1.7881e-06,  2.2352e-07,\n",
       "           2.9057e-06,  1.6242e-06,  6.5714e-06,  4.1276e-06,  5.6922e-06,\n",
       "           2.8908e-06,  1.1623e-06],\n",
       "         [ 0.0000e+00,  2.0303e-07,  1.2014e-06, -1.3970e-07,  5.7742e-08,\n",
       "           1.2778e-06,  1.4901e-06,  6.3702e-07,  2.1160e-06, -1.7881e-07,\n",
       "          -1.3039e-07, -7.2643e-08, -5.3644e-07,  1.7211e-06,  2.0731e-06,\n",
       "           1.5181e-06,  1.8068e-07,  7.9349e-07,  2.4065e-06,  2.5015e-06,\n",
       "          -5.9232e-07,  1.2107e-07,  2.3283e-07, -4.6194e-07,  1.6913e-06,\n",
       "           1.7472e-06,  7.6368e-07, -1.1157e-06, -2.5332e-07, -4.1910e-07,\n",
       "          -8.2701e-07,  9.7975e-07,  7.3388e-07, -3.7998e-07, -2.3991e-06,\n",
       "          -1.2554e-06, -7.8417e-07, -2.7008e-07, -4.3586e-07,  2.6822e-07,\n",
       "          -5.0850e-07, -2.8312e-07,  2.3283e-07, -6.9663e-07, -5.4762e-07,\n",
       "           7.3202e-07,  1.6764e-07,  2.3488e-06,  1.6037e-06,  1.8161e-06,\n",
       "           1.1660e-06,  5.1223e-07]]])"
      ]
     },
     "execution_count": 9,
     "metadata": {},
     "output_type": "execute_result"
    }
   ],
   "source": [
    "\n",
    "attr = FeatureAblationText(forward)\n",
    "print(attr)\n",
    "exp = attr.get_attributions([obs_pt])\n",
    "exp"
   ]
  },
  {
   "cell_type": "code",
   "execution_count": 10,
   "metadata": {},
   "outputs": [
    {
     "name": "stdout",
     "output_type": "stream",
     "text": [
      "['<s>', 'F', 'ifty', '-', 'six', 'Ġpercent', 'Ġdecline', 'Ġin', 'Ġoverall', 'Ġcrime', '.', 'ĠA', 'Ġ73', 'Ġpercent', 'Ġdecline', 'Ġin', 'Ġmotor', '-', 'veh', 'icle', 'Ġtheft', '.', 'ĠA', 'Ġ67', 'Ġpercent', 'Ġdecline', 'Ġin', 'Ġrobbery', '.', 'ĠA', 'Ġ66', 'Ġpercent', 'Ġdecline', 'Ġin', 'Ġmurder', '.', 'ĠThis', 'Ġis', 'Ġway', 'Ġbeyond', 'Ġwhat', 'Ġhappened', 'Ġin', 'Ġthe', 'Ġnation', 'Ġduring', 'Ġthis', 'Ġperiod', 'Ġof', 'Ġtime', '.', '</s>']\n"
     ]
    }
   ],
   "source": [
    "tokens = pipeline.tokenizer.convert_ids_to_tokens(obs_pt[0])\n",
    "print(tokens)"
   ]
  },
  {
   "cell_type": "code",
   "execution_count": 11,
   "metadata": {},
   "outputs": [
    {
     "name": "stdout",
     "output_type": "stream",
     "text": [
      "Entities in the text:\n",
      "Fifty-six percent (PERCENT) - Percentage, including \"%\"\n",
      "73 percent (PERCENT) - Percentage, including \"%\"\n",
      "67 percent (PERCENT) - Percentage, including \"%\"\n",
      "66 percent (PERCENT) - Percentage, including \"%\"\n"
     ]
    }
   ],
   "source": [
    "import spacy\n",
    "\n",
    "NER = spacy.load(\"en_core_web_sm\")\n",
    "\n",
    "doc = NER(obs)\n",
    "\n",
    "print(\"Entities in the text:\")\n",
    "for ent in doc.ents:\n",
    "    print(f\"{ent.text} ({ent.label_}) - {spacy.explain(ent.label_)}\")"
   ]
  },
  {
   "cell_type": "code",
   "execution_count": 12,
   "metadata": {},
   "outputs": [
    {
     "name": "stdout",
     "output_type": "stream",
     "text": [
      "\n",
      "Tokens and Their NER Information: \n",
      "\n",
      "Token: Fifty, Entity Type: PERCENT (Percentage, including \"%\")\n",
      "Token: -, Entity Type: PERCENT (Percentage, including \"%\")\n",
      "Token: six, Entity Type: PERCENT (Percentage, including \"%\")\n",
      "Token: percent, Entity Type: PERCENT (Percentage, including \"%\")\n",
      "Token: decline, Not part of any entity.\n",
      "Token: in, Not part of any entity.\n",
      "Token: overall, Not part of any entity.\n",
      "Token: crime, Not part of any entity.\n",
      "Token: ., Not part of any entity.\n",
      "Token: A, Not part of any entity.\n",
      "Token: 73, Entity Type: PERCENT (Percentage, including \"%\")\n",
      "Token: percent, Entity Type: PERCENT (Percentage, including \"%\")\n",
      "Token: decline, Not part of any entity.\n",
      "Token: in, Not part of any entity.\n",
      "Token: motor, Not part of any entity.\n",
      "Token: -, Not part of any entity.\n",
      "Token: vehicle, Not part of any entity.\n",
      "Token: theft, Not part of any entity.\n",
      "Token: ., Not part of any entity.\n",
      "Token: A, Not part of any entity.\n",
      "Token: 67, Entity Type: PERCENT (Percentage, including \"%\")\n",
      "Token: percent, Entity Type: PERCENT (Percentage, including \"%\")\n",
      "Token: decline, Not part of any entity.\n",
      "Token: in, Not part of any entity.\n",
      "Token: robbery, Not part of any entity.\n",
      "Token: ., Not part of any entity.\n",
      "Token: A, Not part of any entity.\n",
      "Token: 66, Entity Type: PERCENT (Percentage, including \"%\")\n",
      "Token: percent, Entity Type: PERCENT (Percentage, including \"%\")\n",
      "Token: decline, Not part of any entity.\n",
      "Token: in, Not part of any entity.\n",
      "Token: murder, Not part of any entity.\n",
      "Token: ., Not part of any entity.\n",
      "Token: This, Not part of any entity.\n",
      "Token: is, Not part of any entity.\n",
      "Token: way, Not part of any entity.\n",
      "Token: beyond, Not part of any entity.\n",
      "Token: what, Not part of any entity.\n",
      "Token: happened, Not part of any entity.\n",
      "Token: in, Not part of any entity.\n",
      "Token: the, Not part of any entity.\n",
      "Token: nation, Not part of any entity.\n",
      "Token: during, Not part of any entity.\n",
      "Token: this, Not part of any entity.\n",
      "Token: period, Not part of any entity.\n",
      "Token: of, Not part of any entity.\n",
      "Token: time, Not part of any entity.\n",
      "Token: ., Not part of any entity.\n"
     ]
    }
   ],
   "source": [
    "print(\"\\nTokens and Their NER Information: \\n\")\n",
    "\n",
    "for token in doc:\n",
    "    if token.ent_type_:\n",
    "        print(f\"Token: {token.text}, Entity Type: {token.ent_type_} ({spacy.explain(token.ent_type_)})\")\n",
    "    else:\n",
    "        print(f\"Token: {token.text}, Not part of any entity.\")"
   ]
  },
  {
   "cell_type": "code",
   "execution_count": 13,
   "metadata": {},
   "outputs": [
    {
     "name": "stdout",
     "output_type": "stream",
     "text": [
      "52\n",
      "['F', 'ifty', '-', 'six', 'percent', 'decline', 'in', 'overall', 'crime', '.', 'A', '73', 'percent', 'decline', 'in', 'motor', '-', 'veh', 'icle', 'theft', '.', 'A', '67', 'percent', 'decline', 'in', 'robbery', '.', 'A', '66', 'percent', 'decline', 'in', 'murder', '.', 'This', 'is', 'way', 'beyond', 'what', 'happened', 'in', 'the', 'nation', 'during', 'this', 'period', 'of', 'time', '.']\n",
      "tensor([[[ 0.0000e+00,  4.9621e-06,  8.8066e-06,  3.8594e-06,  7.4357e-06,\n",
      "           1.0684e-05,  1.0982e-05,  7.3612e-06,  9.5218e-06,  4.0531e-06,\n",
      "           4.0382e-06,  4.1127e-06,  3.5316e-06,  1.0267e-05,  1.1295e-05,\n",
      "           8.1062e-06,  4.1127e-06,  6.2287e-06,  1.0163e-05,  1.0222e-05,\n",
      "           2.2799e-06,  4.5598e-06,  4.2915e-06,  2.1160e-06,  8.4639e-06,\n",
      "           9.8199e-06,  5.2899e-06,  1.5199e-06,  2.6524e-06,  2.3842e-06,\n",
      "           1.7881e-07,  5.2899e-06,  5.3346e-06,  5.0664e-07, -3.5316e-06,\n",
      "          -2.3991e-06,  2.8312e-07, -5.9605e-07, -3.4273e-07,  2.1309e-06,\n",
      "          -4.1723e-07, -1.4901e-07,  1.5646e-06, -1.7881e-06,  2.2352e-07,\n",
      "           2.9057e-06,  1.6242e-06,  6.5714e-06,  4.1276e-06,  5.6922e-06,\n",
      "           2.8908e-06,  1.1623e-06],\n",
      "         [ 0.0000e+00,  2.0303e-07,  1.2014e-06, -1.3970e-07,  5.7742e-08,\n",
      "           1.2778e-06,  1.4901e-06,  6.3702e-07,  2.1160e-06, -1.7881e-07,\n",
      "          -1.3039e-07, -7.2643e-08, -5.3644e-07,  1.7211e-06,  2.0731e-06,\n",
      "           1.5181e-06,  1.8068e-07,  7.9349e-07,  2.4065e-06,  2.5015e-06,\n",
      "          -5.9232e-07,  1.2107e-07,  2.3283e-07, -4.6194e-07,  1.6913e-06,\n",
      "           1.7472e-06,  7.6368e-07, -1.1157e-06, -2.5332e-07, -4.1910e-07,\n",
      "          -8.2701e-07,  9.7975e-07,  7.3388e-07, -3.7998e-07, -2.3991e-06,\n",
      "          -1.2554e-06, -7.8417e-07, -2.7008e-07, -4.3586e-07,  2.6822e-07,\n",
      "          -5.0850e-07, -2.8312e-07,  2.3283e-07, -6.9663e-07, -5.4762e-07,\n",
      "           7.3202e-07,  1.6764e-07,  2.3488e-06,  1.6037e-06,  1.8161e-06,\n",
      "           1.1660e-06,  5.1223e-07]]])\n",
      "1\n"
     ]
    }
   ],
   "source": [
    "print(len(tokens))\n",
    "\n",
    "tokens_clear = [s.replace(\"Ġ\", \"\") for s in tokens]\n",
    "tokens_clear = tokens_clear[1:len(tokens_clear)-1]\n",
    "print(tokens_clear)\n",
    "\n",
    "print(exp)\n",
    "print(len(exp))"
   ]
  },
  {
   "cell_type": "code",
   "execution_count": 14,
   "metadata": {},
   "outputs": [],
   "source": [
    "from engine.tokens_aggregate import TokenAggregate"
   ]
  },
  {
   "cell_type": "code",
   "execution_count": 15,
   "metadata": {},
   "outputs": [],
   "source": [
    "aggregate_list = TokenAggregate.generate_aggregate_list(doc,exp[0],tokens_clear,tokens)"
   ]
  },
  {
   "cell_type": "code",
   "execution_count": 16,
   "metadata": {},
   "outputs": [
    {
     "name": "stdout",
     "output_type": "stream",
     "text": [
      "Agregate nr: 0\n",
      "Is spacy NER: ['PERCENT']\n",
      "spacy token: ['Fifty']\n",
      "Our model clean: ['F', 'ifty']\n",
      "Our model dirty: ['F', 'ifty']\n",
      "model exp: [4.9620866775512695e-06, 8.806586265563965e-06]\n",
      "\n",
      "\n",
      "\n",
      "Agregate nr: 1\n",
      "Is spacy NER: ['PERCENT']\n",
      "spacy token: ['-']\n",
      "Our model clean: ['-']\n",
      "Our model dirty: ['-']\n",
      "model exp: [3.859400749206543e-06]\n",
      "\n",
      "\n",
      "\n",
      "Agregate nr: 2\n",
      "Is spacy NER: ['PERCENT']\n",
      "spacy token: ['six']\n",
      "Our model clean: ['six']\n",
      "Our model dirty: ['six']\n",
      "model exp: [7.4356794357299805e-06]\n",
      "\n",
      "\n",
      "\n",
      "Agregate nr: 3\n",
      "Is spacy NER: ['PERCENT']\n",
      "spacy token: ['percent']\n",
      "Our model clean: ['percent']\n",
      "Our model dirty: ['Ġpercent']\n",
      "model exp: [1.068413257598877e-05]\n",
      "\n",
      "\n",
      "\n",
      "Agregate nr: 4\n",
      "Is spacy NER: ['']\n",
      "spacy token: ['decline']\n",
      "Our model clean: ['decline']\n",
      "Our model dirty: ['Ġdecline']\n",
      "model exp: [1.0982155799865723e-05]\n",
      "\n",
      "\n",
      "\n",
      "Agregate nr: 5\n",
      "Is spacy NER: ['']\n",
      "spacy token: ['in']\n",
      "Our model clean: ['in']\n",
      "Our model dirty: ['Ġin']\n",
      "model exp: [7.361173629760742e-06]\n",
      "\n",
      "\n",
      "\n",
      "Agregate nr: 6\n",
      "Is spacy NER: ['']\n",
      "spacy token: ['overall']\n",
      "Our model clean: ['overall']\n",
      "Our model dirty: ['Ġoverall']\n",
      "model exp: [9.521842002868652e-06]\n",
      "\n",
      "\n",
      "\n",
      "Agregate nr: 7\n",
      "Is spacy NER: ['']\n",
      "spacy token: ['crime']\n",
      "Our model clean: ['crime']\n",
      "Our model dirty: ['Ġcrime']\n",
      "model exp: [4.0531158447265625e-06]\n",
      "\n",
      "\n",
      "\n",
      "Agregate nr: 8\n",
      "Is spacy NER: ['']\n",
      "spacy token: ['.']\n",
      "Our model clean: ['.']\n",
      "Our model dirty: ['.']\n",
      "model exp: [4.038214683532715e-06]\n",
      "\n",
      "\n",
      "\n",
      "Agregate nr: 9\n",
      "Is spacy NER: ['']\n",
      "spacy token: ['A']\n",
      "Our model clean: ['A']\n",
      "Our model dirty: ['ĠA']\n",
      "model exp: [4.112720489501953e-06]\n",
      "\n",
      "\n",
      "\n",
      "Agregate nr: 10\n",
      "Is spacy NER: ['PERCENT']\n",
      "spacy token: ['73']\n",
      "Our model clean: ['73']\n",
      "Our model dirty: ['Ġ73']\n",
      "model exp: [3.5315752029418945e-06]\n",
      "\n",
      "\n",
      "\n",
      "Agregate nr: 11\n",
      "Is spacy NER: ['PERCENT']\n",
      "spacy token: ['percent']\n",
      "Our model clean: ['percent']\n",
      "Our model dirty: ['Ġpercent']\n",
      "model exp: [1.0266900062561035e-05]\n",
      "\n",
      "\n",
      "\n",
      "Agregate nr: 12\n",
      "Is spacy NER: ['']\n",
      "spacy token: ['decline']\n",
      "Our model clean: ['decline']\n",
      "Our model dirty: ['Ġdecline']\n",
      "model exp: [1.1295080184936523e-05]\n",
      "\n",
      "\n",
      "\n",
      "Agregate nr: 13\n",
      "Is spacy NER: ['']\n",
      "spacy token: ['in']\n",
      "Our model clean: ['in']\n",
      "Our model dirty: ['Ġin']\n",
      "model exp: [8.106231689453125e-06]\n",
      "\n",
      "\n",
      "\n",
      "Agregate nr: 14\n",
      "Is spacy NER: ['']\n",
      "spacy token: ['motor']\n",
      "Our model clean: ['motor']\n",
      "Our model dirty: ['Ġmotor']\n",
      "model exp: [4.112720489501953e-06]\n",
      "\n",
      "\n",
      "\n",
      "Agregate nr: 15\n",
      "Is spacy NER: ['']\n",
      "spacy token: ['-']\n",
      "Our model clean: ['-']\n",
      "Our model dirty: ['-']\n",
      "model exp: [6.22868537902832e-06]\n",
      "\n",
      "\n",
      "\n",
      "Agregate nr: 16\n",
      "Is spacy NER: ['']\n",
      "spacy token: ['vehicle']\n",
      "Our model clean: ['veh', 'icle']\n",
      "Our model dirty: ['veh', 'icle']\n",
      "model exp: [1.0162591934204102e-05, 1.0222196578979492e-05]\n",
      "\n",
      "\n",
      "\n",
      "Agregate nr: 17\n",
      "Is spacy NER: ['']\n",
      "spacy token: ['theft']\n",
      "Our model clean: ['theft']\n",
      "Our model dirty: ['Ġtheft']\n",
      "model exp: [2.2798776626586914e-06]\n",
      "\n",
      "\n",
      "\n",
      "Agregate nr: 18\n",
      "Is spacy NER: ['']\n",
      "spacy token: ['.']\n",
      "Our model clean: ['.']\n",
      "Our model dirty: ['.']\n",
      "model exp: [4.559755325317383e-06]\n",
      "\n",
      "\n",
      "\n",
      "Agregate nr: 19\n",
      "Is spacy NER: ['']\n",
      "spacy token: ['A']\n",
      "Our model clean: ['A']\n",
      "Our model dirty: ['ĠA']\n",
      "model exp: [4.291534423828125e-06]\n",
      "\n",
      "\n",
      "\n",
      "Agregate nr: 20\n",
      "Is spacy NER: ['PERCENT']\n",
      "spacy token: ['67']\n",
      "Our model clean: ['67']\n",
      "Our model dirty: ['Ġ67']\n",
      "model exp: [2.115964889526367e-06]\n",
      "\n",
      "\n",
      "\n",
      "Agregate nr: 21\n",
      "Is spacy NER: ['PERCENT']\n",
      "spacy token: ['percent']\n",
      "Our model clean: ['percent']\n",
      "Our model dirty: ['Ġpercent']\n",
      "model exp: [8.463859558105469e-06]\n",
      "\n",
      "\n",
      "\n",
      "Agregate nr: 22\n",
      "Is spacy NER: ['']\n",
      "spacy token: ['decline']\n",
      "Our model clean: ['decline']\n",
      "Our model dirty: ['Ġdecline']\n",
      "model exp: [9.819865226745605e-06]\n",
      "\n",
      "\n",
      "\n",
      "Agregate nr: 23\n",
      "Is spacy NER: ['']\n",
      "spacy token: ['in']\n",
      "Our model clean: ['in']\n",
      "Our model dirty: ['Ġin']\n",
      "model exp: [5.289912223815918e-06]\n",
      "\n",
      "\n",
      "\n",
      "Agregate nr: 24\n",
      "Is spacy NER: ['']\n",
      "spacy token: ['robbery']\n",
      "Our model clean: ['robbery']\n",
      "Our model dirty: ['Ġrobbery']\n",
      "model exp: [1.519918441772461e-06]\n",
      "\n",
      "\n",
      "\n",
      "Agregate nr: 25\n",
      "Is spacy NER: ['']\n",
      "spacy token: ['.']\n",
      "Our model clean: ['.']\n",
      "Our model dirty: ['.']\n",
      "model exp: [2.652406692504883e-06]\n",
      "\n",
      "\n",
      "\n",
      "Agregate nr: 26\n",
      "Is spacy NER: ['']\n",
      "spacy token: ['A']\n",
      "Our model clean: ['A']\n",
      "Our model dirty: ['ĠA']\n",
      "model exp: [2.384185791015625e-06]\n",
      "\n",
      "\n",
      "\n",
      "Agregate nr: 27\n",
      "Is spacy NER: ['PERCENT']\n",
      "spacy token: ['66']\n",
      "Our model clean: ['66']\n",
      "Our model dirty: ['Ġ66']\n",
      "model exp: [1.7881393432617188e-07]\n",
      "\n",
      "\n",
      "\n",
      "Agregate nr: 28\n",
      "Is spacy NER: ['PERCENT']\n",
      "spacy token: ['percent']\n",
      "Our model clean: ['percent']\n",
      "Our model dirty: ['Ġpercent']\n",
      "model exp: [5.289912223815918e-06]\n",
      "\n",
      "\n",
      "\n",
      "Agregate nr: 29\n",
      "Is spacy NER: ['']\n",
      "spacy token: ['decline']\n",
      "Our model clean: ['decline']\n",
      "Our model dirty: ['Ġdecline']\n",
      "model exp: [5.334615707397461e-06]\n",
      "\n",
      "\n",
      "\n",
      "Agregate nr: 30\n",
      "Is spacy NER: ['']\n",
      "spacy token: ['in']\n",
      "Our model clean: ['in']\n",
      "Our model dirty: ['Ġin']\n",
      "model exp: [5.066394805908203e-07]\n",
      "\n",
      "\n",
      "\n",
      "Agregate nr: 31\n",
      "Is spacy NER: ['']\n",
      "spacy token: ['murder']\n",
      "Our model clean: ['murder']\n",
      "Our model dirty: ['Ġmurder']\n",
      "model exp: [-3.5315752029418945e-06]\n",
      "\n",
      "\n",
      "\n",
      "Agregate nr: 32\n",
      "Is spacy NER: ['']\n",
      "spacy token: ['.']\n",
      "Our model clean: ['.']\n",
      "Our model dirty: ['.']\n",
      "model exp: [-2.3990869522094727e-06]\n",
      "\n",
      "\n",
      "\n",
      "Agregate nr: 33\n",
      "Is spacy NER: ['']\n",
      "spacy token: ['This']\n",
      "Our model clean: ['This']\n",
      "Our model dirty: ['ĠThis']\n",
      "model exp: [2.8312206268310547e-07]\n",
      "\n",
      "\n",
      "\n",
      "Agregate nr: 34\n",
      "Is spacy NER: ['']\n",
      "spacy token: ['is']\n",
      "Our model clean: ['is']\n",
      "Our model dirty: ['Ġis']\n",
      "model exp: [-5.960464477539062e-07]\n",
      "\n",
      "\n",
      "\n",
      "Agregate nr: 35\n",
      "Is spacy NER: ['']\n",
      "spacy token: ['way']\n",
      "Our model clean: ['way']\n",
      "Our model dirty: ['Ġway']\n",
      "model exp: [-3.427267074584961e-07]\n",
      "\n",
      "\n",
      "\n",
      "Agregate nr: 36\n",
      "Is spacy NER: ['']\n",
      "spacy token: ['beyond']\n",
      "Our model clean: ['beyond']\n",
      "Our model dirty: ['Ġbeyond']\n",
      "model exp: [2.130866050720215e-06]\n",
      "\n",
      "\n",
      "\n",
      "Agregate nr: 37\n",
      "Is spacy NER: ['']\n",
      "spacy token: ['what']\n",
      "Our model clean: ['what']\n",
      "Our model dirty: ['Ġwhat']\n",
      "model exp: [-4.172325134277344e-07]\n",
      "\n",
      "\n",
      "\n",
      "Agregate nr: 38\n",
      "Is spacy NER: ['']\n",
      "spacy token: ['happened']\n",
      "Our model clean: ['happened']\n",
      "Our model dirty: ['Ġhappened']\n",
      "model exp: [-1.4901161193847656e-07]\n",
      "\n",
      "\n",
      "\n",
      "Agregate nr: 39\n",
      "Is spacy NER: ['']\n",
      "spacy token: ['in']\n",
      "Our model clean: ['in']\n",
      "Our model dirty: ['Ġin']\n",
      "model exp: [1.564621925354004e-06]\n",
      "\n",
      "\n",
      "\n",
      "Agregate nr: 40\n",
      "Is spacy NER: ['']\n",
      "spacy token: ['the']\n",
      "Our model clean: ['the']\n",
      "Our model dirty: ['Ġthe']\n",
      "model exp: [-1.7881393432617188e-06]\n",
      "\n",
      "\n",
      "\n",
      "Agregate nr: 41\n",
      "Is spacy NER: ['']\n",
      "spacy token: ['nation']\n",
      "Our model clean: ['nation']\n",
      "Our model dirty: ['Ġnation']\n",
      "model exp: [2.2351741790771484e-07]\n",
      "\n",
      "\n",
      "\n",
      "Agregate nr: 42\n",
      "Is spacy NER: ['']\n",
      "spacy token: ['during']\n",
      "Our model clean: ['during']\n",
      "Our model dirty: ['Ġduring']\n",
      "model exp: [2.905726432800293e-06]\n",
      "\n",
      "\n",
      "\n",
      "Agregate nr: 43\n",
      "Is spacy NER: ['']\n",
      "spacy token: ['this']\n",
      "Our model clean: ['this']\n",
      "Our model dirty: ['Ġthis']\n",
      "model exp: [1.6242265701293945e-06]\n",
      "\n",
      "\n",
      "\n",
      "Agregate nr: 44\n",
      "Is spacy NER: ['']\n",
      "spacy token: ['period']\n",
      "Our model clean: ['period']\n",
      "Our model dirty: ['Ġperiod']\n",
      "model exp: [6.571412086486816e-06]\n",
      "\n",
      "\n",
      "\n",
      "Agregate nr: 45\n",
      "Is spacy NER: ['']\n",
      "spacy token: ['of']\n",
      "Our model clean: ['of']\n",
      "Our model dirty: ['Ġof']\n",
      "model exp: [4.127621650695801e-06]\n",
      "\n",
      "\n",
      "\n",
      "Agregate nr: 46\n",
      "Is spacy NER: ['']\n",
      "spacy token: ['time']\n",
      "Our model clean: ['time']\n",
      "Our model dirty: ['Ġtime']\n",
      "model exp: [5.692243576049805e-06]\n",
      "\n",
      "\n",
      "\n",
      "Agregate nr: 47\n",
      "Is spacy NER: ['']\n",
      "spacy token: ['.']\n",
      "Our model clean: ['.']\n",
      "Our model dirty: ['.']\n",
      "model exp: [2.8908252716064453e-06]\n",
      "\n",
      "\n",
      "\n"
     ]
    }
   ],
   "source": [
    "i = 0\n",
    "for aggregate in aggregate_list:\n",
    "    print(f\"Agregate nr: {i}\")\n",
    "    print(aggregate)\n",
    "    print(\"\\n\")\n",
    "    i=i+1\n"
   ]
  },
  {
   "cell_type": "code",
   "execution_count": 17,
   "metadata": {},
   "outputs": [],
   "source": [
    "from engine.xai import FeatureAblation\n",
    "from engine.tokens_aggregate import TokenAggregate\n",
    "from engine.NerDetector import tokenize_evaluate_and_detect_NERs,generate_aggregates\n",
    "\n",
    "all_aggregate = generate_aggregates(pipeline,test[\"text\"].tolist()[:1])"
   ]
  },
  {
   "cell_type": "code",
   "execution_count": 18,
   "metadata": {},
   "outputs": [],
   "source": [
    "for aggregate in all_aggregate:\n",
    "    if(len(aggregate.spacy_token)>1):\n",
    "        print(aggregate)"
   ]
  },
  {
   "cell_type": "code",
   "execution_count": 19,
   "metadata": {},
   "outputs": [
    {
     "data": {
      "text/plain": [
       "<Axes: >"
      ]
     },
     "execution_count": 19,
     "metadata": {},
     "output_type": "execute_result"
    },
    {
     "data": {
      "image/png": "[encoded data removed]",
      "text/plain": [
       "<Figure size 640x480 with 1 Axes>"
      ]
     },
     "metadata": {},
     "output_type": "display_data"
    }
   ],
   "source": [
    "import numpy as np\n",
    "import matplotlib.pyplot as plt\n",
    "import seaborn as sns\n",
    "\n",
    "all_ner_types = set()\n",
    "\n",
    "for aggregate in all_aggregate:\n",
    "    for ner in aggregate.NERs:\n",
    "        all_ner_types.add(ner)\n",
    "\n",
    "exps = {}\n",
    "\n",
    "for ner_type in all_ner_types:\n",
    "    exps[ner_type] = []\n",
    "\n",
    "for aggregate in all_aggregate:\n",
    "    value = np.max(aggregate.model_exp)\n",
    "\n",
    "    true_ners = [element for element in aggregate.NERs if element != '']\n",
    "    if(len(true_ners)==0):\n",
    "        exps[''].append(value)\n",
    "    else:\n",
    "        for ner in true_ners:\n",
    "            exps[ner].append(value)\n",
    "\n",
    "\n",
    "sns.boxplot(exps)\n",
    "\n"
   ]
  },
  {
   "cell_type": "code",
   "execution_count": 25,
   "metadata": {},
   "outputs": [],
   "source": [
    "token_exp_NERs = tokenize_evaluate_and_detect_NERs(pipeline,test[\"text\"].tolist())"
   ]
  },
  {
   "cell_type": "code",
   "execution_count": 21,
   "metadata": {},
   "outputs": [
    {
     "name": "stdout",
     "output_type": "stream",
     "text": [
      "[('Building', 1.2516975402832031e-06, ''), ('Ġa', 3.859400749206543e-06, ''), ('Ġwall', 2.473592758178711e-06, ''), ('Ġon', 6.511807441711426e-06, ''), ('Ġthe', 1.7881393432617188e-06, ''), ('ĠU', 4.5746564865112305e-06, 'ORG'), ('.', 3.7401914596557617e-06, 'ORG'), ('S', 8.761882781982422e-06, 'ORG'), ('.-', 4.306435585021973e-06, 'ORG'), ('Mexico', 1.2889504432678223e-05, 'ORG'), ('Ġborder', 4.6193599700927734e-06, ''), ('Ġwill', 4.649162292480469e-06, ''), ('Ġtake', 1.9222497940063477e-06, ''), ('Ġliterally', 4.76837158203125e-07, 'DATE'), ('Ġyears', 5.424022674560547e-06, 'DATE'), ('.', 4.827976226806641e-06, ''), ('Wisconsin', 9.685754776000977e-07, 'GPE'), ('Ġis', 2.3245811462402344e-06, ''), ('Ġon', 5.513429641723633e-07, ''), ('Ġpace', 1.7583370208740234e-06, ''), ('Ġto', 1.6689300537109375e-06, ''), ('Ġdouble', 4.023313522338867e-06, ''), ('Ġthe', -1.6391277313232422e-06, ''), ('Ġnumber', 5.841255187988281e-06, ''), ('Ġof', 4.455447196960449e-06, ''), ('Ġlayoffs', 4.932284355163574e-06, ''), ('Ġthis', 2.4884939193725586e-06, 'DATE'), ('Ġyear', 8.240342140197754e-06, 'DATE'), ('.', 5.289912223815918e-06, ''), ('S', 9.08970832824707e-07, ''), ('ays', -9.387731552124023e-07, ''), ('ĠJohn', -9.08970832824707e-07, 'PERSON'), ('ĠMcCain', 8.195638656616211e-07, 'PERSON'), ('Ġhas', -1.9669532775878906e-06, ''), ('Ġdone', -2.8014183044433594e-06, ''), ('Ġnothing', -9.98377799987793e-07, ''), ('Ġto', -1.043081283569336e-06, ''), ('Ġhelp', -3.0547380447387695e-06, ''), ('Ġthe', -3.293156623840332e-06, ''), ('Ġvets', 1.4901161193847656e-06, ''), ('.', -2.4884939193725586e-06, ''), ('When', 9.08970832824707e-07, ''), ('Ġasked', 2.9355287551879883e-06, ''), ('Ġby', 2.9653310775756836e-06, ''), ('Ġa', 1.9371509552001953e-07, ''), ('Ġreporter', 4.3213367462158203e-07, ''), ('Ġwhether', 1.7881393432617188e-06, ''), ('Ġhes', 3.5762786865234375e-06, ''), ('Ġat', 5.364418029785156e-06, ''), ('Ġthe', 1.8924474716186523e-06, ''), ('Ġcenter', 2.652406692504883e-06, ''), ('Ġof', 4.857778549194336e-06, ''), ('Ġa', 6.705522537231445e-07, ''), ('Ġcriminal', 2.175569534301758e-06, ''), ('Ġscheme', 3.606081008911133e-06, ''), ('Ġto', 3.0547380447387695e-06, ''), ('Ġviolate', 5.304813385009766e-06, ''), ('Ġcampaign', 3.2186508178710938e-06, ''), ('Ġlaws', 5.424022674560547e-06, ''), (',', 4.1425228118896484e-06, ''), ('ĠGov', 7.987022399902344e-06, ''), ('.', 4.112720489501953e-06, ''), ('ĠScott', 4.4852495193481445e-06, 'PERSON'), ('ĠWalker', 5.066394805908203e-06, 'PERSON'), ('Ġnodded', 3.4570693969726562e-06, ''), ('Ġyes', 3.5017728805541992e-06, ''), ('.', 3.516674041748047e-06, '')]\n"
     ]
    }
   ],
   "source": [
    "print(token_exp_NERs)"
   ]
  },
  {
   "cell_type": "code",
   "execution_count": 29,
   "metadata": {},
   "outputs": [
    {
     "data": {
      "text/plain": [
       "<Axes: >"
      ]
     },
     "execution_count": 29,
     "metadata": {},
     "output_type": "execute_result"
    },
    {
     "data": {
      "image/png": "[encoded data removed]",
      "text/plain": [
       "<Figure size 2000x600 with 1 Axes>"
      ]
     },
     "metadata": {},
     "output_type": "display_data"
    }
   ],
   "source": [
    "import numpy as np\n",
    "import matplotlib.pyplot as plt\n",
    "import seaborn as sns\n",
    "\n",
    "all_ner_types = set()\n",
    "\n",
    "for _,_,ner in token_exp_NERs:\n",
    "        all_ner_types.add(ner)\n",
    "        \n",
    "exps = {}\n",
    "for ner_type in all_ner_types:\n",
    "    exps[ner_type] = []\n",
    "\n",
    "\n",
    "\n",
    "for token,exp,ner in token_exp_NERs:\n",
    "      exps[ner].append(exp)\n",
    "\n",
    "\n",
    "plt.figure(figsize=(20,6))\n",
    "sns.boxplot(exps)"
   ]
  }
 ],
 "metadata": {
  "kernelspec": {
   "display_name": ".venv",
   "language": "python",
   "name": "python3"
  },
  "language_info": {
   "codemirror_mode": {
    "name": "ipython",
    "version": 3
   },
   "file_extension": ".py",
   "mimetype": "text/x-python",
   "name": "python",
   "nbconvert_exporter": "python",
   "pygments_lexer": "ipython3",
   "version": "3.12.2"
  }
 },
 "nbformat": 4,
 "nbformat_minor": 2
}
