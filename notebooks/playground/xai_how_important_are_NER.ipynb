{
 "cells": [
  {
   "cell_type": "code",
   "execution_count": 28,
   "metadata": {},
   "outputs": [],
   "source": [
    "from transformers import (\n",
    "    AutoModelForSequenceClassification,\n",
    "    AutoTokenizer,\n",
    "    AutoConfig,\n",
    "    TextClassificationPipeline,\n",
    ")\n",
    "import pandas as pd\n",
    "from engine.ner_detector import text_preprocess"
   ]
  },
  {
   "cell_type": "code",
   "execution_count": 29,
   "metadata": {},
   "outputs": [],
   "source": [
    "MODEL_ID = \"nghuyong/ernie-2.0-base-en\"\n",
    "MODEL_PATH = \"output/Mikolaj-notworking/model.safetensors\"\n",
    "tokenizer = AutoTokenizer.from_pretrained(MODEL_ID)"
   ]
  },
  {
   "cell_type": "code",
   "execution_count": 30,
   "metadata": {},
   "outputs": [],
   "source": [
    "import torch\n",
    "def get_device():\n",
    "    if torch.cuda.is_available():\n",
    "        print(\"CUDA is available. Using GPU.\")\n",
    "        return \"cuda\"\n",
    "    else:\n",
    "        print(\"CUDA not available. Using CPU.\")\n",
    "        return \"cpu\""
   ]
  },
  {
   "cell_type": "code",
   "execution_count": 31,
   "metadata": {},
   "outputs": [
    {
     "name": "stdout",
     "output_type": "stream",
     "text": [
      "CUDA not available. Using CPU.\n"
     ]
    }
   ],
   "source": [
    "config = AutoConfig.from_pretrained(MODEL_ID)\n",
    "device = get_device()\n",
    "model = AutoModelForSequenceClassification.from_pretrained(\n",
    "    MODEL_PATH, config=config\n",
    ")\n",
    "model.eval()\n",
    "pipeline = TextClassificationPipeline(\n",
    "    model=model, tokenizer=tokenizer, top_k=2, device=device\n",
    ")"
   ]
  },
  {
   "cell_type": "code",
   "execution_count": 32,
   "metadata": {},
   "outputs": [],
   "source": [
    "%%capture\n",
    "if(device == \"cuda\"):\n",
    "    model.cuda()\n",
    "else:\n",
    "    model.cpu()"
   ]
  },
  {
   "cell_type": "code",
   "execution_count": 33,
   "metadata": {},
   "outputs": [],
   "source": [
    "from engine.ner_detector import tokenize_evaluate_and_detect_NERs,generate_aggregates"
   ]
  },
  {
   "cell_type": "code",
   "execution_count": 34,
   "metadata": {},
   "outputs": [
    {
     "name": "stderr",
     "output_type": "stream",
     "text": [
      "10it [00:06,  1.44it/s]\n"
     ]
    },
    {
     "name": "stdout",
     "output_type": "stream",
     "text": [
      "\n",
      " INVALID DOC!!! stopped\n",
      "EddieVanHalenDiesofCancerat65\n",
      "eddievanhale##ndiesofcancerat\n",
      "Eddie Van Halen Dies of Cancer at 65\n",
      "\n",
      " INVALID DOC!!! stopped\n",
      "HavethePublicHealthRestrictionsGoneTooFarforCOVID-19?\n",
      "havethepublichealthrestrictionsgonetoofarforco##vid-19\n",
      "Have the Public Health Restrictions Gone Too Far for COVID-19?\n",
      "\n",
      " INVALID DOC!!! stopped\n",
      "MyexperiencebattlingCOVID-19-MedicalNewsToday\n",
      "myexperiencebattlingco##vid-19-medicalnewstoday\n",
      "My experience battling COVID-19 - Medical News Today\n",
      "\n",
      " INVALID DOC!!! stopped\n",
      "U.S.GovernmenttoIncreasePPEShipmentstoNursingHomes\n",
      "u.s.governmenttoincreasepp##eshipmentstonursinghomes\n",
      "U.S. Government to Increase PPE Shipments to Nursing Homes\n",
      "\n",
      " INVALID DOC!!! stopped\n",
      "FrequentlyAskedQuestionsaboutHandHygieneforHealthcarePersonnelRespondingtoCOVID-2019\n",
      "frequentlyaskedquestionsabouthandhygieneforhealthcarepersonnelrespondingtoco##vid-2019\n",
      "Frequently Asked Questions about Hand Hygiene for Healthcare Personnel Responding to COVID-2019\n",
      "\n",
      " INVALID DOC!!! stopped\n",
      "Novelcoronavirus:Whatweknowsofar\n",
      "novelcorona##virus:whatweknowsofar\n",
      "Novel coronavirus: What we know so far\n",
      "\n",
      " INVALID DOC!!! stopped\n",
      "App,AIWorkTogethertoProvideRapidat-HomeAssessmentofCoronavirusRisk\n",
      "app,aiworktogethertoproviderapidat-homeassessmentofcorona##virusrisk\n",
      "App, AI Work Together to Provide Rapid at-Home Assessment of Coronavirus Risk\n",
      "\n",
      " INVALID DOC!!! stopped\n",
      "InterimOperationalConsiderationsforImplementingtheShieldingApproachtoPreventCOVID-19InfectionsinHumanitarianSettings\n",
      "interimoperationalconsiderationsforimplementingtheshieldingapproachtopreventco##vid-19infectionsinhumanitariansettings\n",
      "Interim Operational Considerations for Implementing the Shielding Approach to Prevent COVID-19 Infections in Humanitarian Settings\n",
      "\n",
      " INVALID DOC!!! stopped\n",
      "StudyConfirmsCatsCanBecomeInfectedWithandMayTransmitCOVID-19toOtherCats\n",
      "studyconfirmscatscanbecomeinfectedwithandmaytransmitco##vid-19toothercats\n",
      "Study Confirms Cats Can Become Infected With and May Transmit COVID-19 to Other Cats\n",
      "\n",
      " INVALID DOC!!! stopped\n",
      "TwoEmergencyPhysiciansRemaininCriticalConditionFromCOVID-19\n",
      "twoemergencyphysiciansremainincriticalconditionfromco##vid-\n",
      "Two Emergency Physicians Remain in Critical Condition From COVID-19\n"
     ]
    },
    {
     "name": "stderr",
     "output_type": "stream",
     "text": [
      "0it [00:00, ?it/s]\n"
     ]
    },
    {
     "data": {
      "image/png": "[encoded data removed]",
      "text/plain": [
       "<Figure size 2000x600 with 1 Axes>"
      ]
     },
     "metadata": {},
     "output_type": "display_data"
    }
   ],
   "source": [
    "import numpy as np\n",
    "import matplotlib.pyplot as plt\n",
    "import seaborn as sns\n",
    "\n",
    "limit_data = 10\n",
    "\n",
    "\n",
    "data_names = [\"coaid\"]\n",
    "\n",
    "results_for_data_filtered = {}\n",
    "\n",
    "for data_name in data_names:\n",
    "\n",
    "    file = f\"data/{data_name}/test.csv\"\n",
    "    test = pd.read_csv(file)\n",
    "    test = test[\"text\"].tolist()\n",
    "    #temporatry data bottleneck\n",
    "    if limit_data:\n",
    "        test = test[:limit_data]\n",
    "    token_exp_NERs = tokenize_evaluate_and_detect_NERs(pipeline,test)\n",
    "    results_for_data_filtered[data_name] = token_exp_NERs\n",
    "    all_ner_types = set()\n",
    "\n",
    "    for _,_,ner in token_exp_NERs:\n",
    "            all_ner_types.add(ner)\n",
    "            \n",
    "    exps = {}\n",
    "    for ner_type in all_ner_types:\n",
    "        exps[ner_type] = []\n",
    "\n",
    "\n",
    "\n",
    "    for token,exp,ner in token_exp_NERs:\n",
    "        exps[ner].append(exp)\n",
    "\n",
    "\n",
    "    plt.figure(figsize=(20,6))\n",
    "    sns.boxplot(exps)\n",
    "    plt.title(f\"test for {file}\")\n",
    "    plt.show()"
   ]
  }
 ],
 "metadata": {
  "kernelspec": {
   "display_name": "Python 3",
   "language": "python",
   "name": "python3"
  },
  "language_info": {
   "codemirror_mode": {
    "name": "ipython",
    "version": 3
   },
   "file_extension": ".py",
   "mimetype": "text/x-python",
   "name": "python",
   "nbconvert_exporter": "python",
   "pygments_lexer": "ipython3",
   "version": "3.12.2"
  }
 },
 "nbformat": 4,
 "nbformat_minor": 2
}
