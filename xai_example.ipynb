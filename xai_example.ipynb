{
 "cells": [
  {
   "cell_type": "markdown",
   "metadata": {},
   "source": [
    "### Question: does `model` returns `[0 prob, 1 prob]` before softmax?"
   ]
  },
  {
   "cell_type": "code",
   "execution_count": 1,
   "metadata": {},
   "outputs": [
    {
     "name": "stderr",
     "output_type": "stream",
     "text": [
      "2024-11-18 15:37:50.864733: I tensorflow/core/util/port.cc:113] oneDNN custom operations are on. You may see slightly different numerical results due to floating-point round-off errors from different computation orders. To turn them off, set the environment variable `TF_ENABLE_ONEDNN_OPTS=0`.\n",
      "2024-11-18 15:37:50.889209: E external/local_xla/xla/stream_executor/cuda/cuda_dnn.cc:9261] Unable to register cuDNN factory: Attempting to register factory for plugin cuDNN when one has already been registered\n",
      "2024-11-18 15:37:50.889232: E external/local_xla/xla/stream_executor/cuda/cuda_fft.cc:607] Unable to register cuFFT factory: Attempting to register factory for plugin cuFFT when one has already been registered\n",
      "2024-11-18 15:37:50.890023: E external/local_xla/xla/stream_executor/cuda/cuda_blas.cc:1515] Unable to register cuBLAS factory: Attempting to register factory for plugin cuBLAS when one has already been registered\n",
      "2024-11-18 15:37:50.895371: I tensorflow/core/platform/cpu_feature_guard.cc:182] This TensorFlow binary is optimized to use available CPU instructions in performance-critical operations.\n",
      "To enable the following instructions: AVX2 AVX512F AVX512_VNNI FMA, in other operations, rebuild TensorFlow with the appropriate compiler flags.\n",
      "2024-11-18 15:37:51.475243: W tensorflow/compiler/tf2tensorrt/utils/py_utils.cc:38] TF-TRT Warning: Could not find TensorRT\n"
     ]
    }
   ],
   "source": [
    "from transformers import (\n",
    "    AutoModelForSequenceClassification,\n",
    "    AutoTokenizer,\n",
    "    AutoConfig,\n",
    "    TextClassificationPipeline,\n",
    ")\n",
    "from engine.data import prepare_data_for_fine_tuning, read_data\n",
    "from engine.xai import FeatureAblationText"
   ]
  },
  {
   "cell_type": "code",
   "execution_count": 2,
   "metadata": {},
   "outputs": [],
   "source": [
    "MODEL_ID = \"roberta-base\"\n",
    "MODEL_PATH = \"output/checkpoint-2025/model.safetensors\"\n",
    "tokenizer = AutoTokenizer.from_pretrained(MODEL_ID)"
   ]
  },
  {
   "cell_type": "code",
   "execution_count": 3,
   "metadata": {},
   "outputs": [
    {
     "data": {
      "application/vnd.jupyter.widget-view+json": {
       "model_id": "4bdaff8c371b408e834c17fdd875fdd8",
       "version_major": 2,
       "version_minor": 0
      },
      "text/plain": [
       "Map:   0%|          | 0/790 [00:00<?, ? examples/s]"
      ]
     },
     "metadata": {},
     "output_type": "display_data"
    }
   ],
   "source": [
    "test = read_data(\"data/split_raw/test.tsv\")\n",
    "test_dataset = prepare_data_for_fine_tuning(test, tokenizer)"
   ]
  },
  {
   "cell_type": "code",
   "execution_count": 4,
   "metadata": {},
   "outputs": [],
   "source": [
    "config = AutoConfig.from_pretrained(MODEL_ID)\n",
    "model = AutoModelForSequenceClassification.from_pretrained(\n",
    "    MODEL_PATH, config=config\n",
    ")\n",
    "model.eval()\n",
    "pipeline = TextClassificationPipeline(\n",
    "    model=model, tokenizer=tokenizer, top_k=2, device=\"cuda\"\n",
    ")"
   ]
  },
  {
   "cell_type": "code",
   "execution_count": 5,
   "metadata": {},
   "outputs": [],
   "source": [
    "%%capture\n",
    "model.cuda()"
   ]
  },
  {
   "cell_type": "code",
   "execution_count": 6,
   "metadata": {},
   "outputs": [],
   "source": [
    "obs = test[\"text\"].tolist()[0]\n",
    "obs_pt = pipeline.tokenizer(obs, return_tensors=\"pt\")['input_ids'].cuda()"
   ]
  },
  {
   "cell_type": "code",
   "execution_count": 7,
   "metadata": {},
   "outputs": [],
   "source": [
    "def forward(obs):\n",
    "    return model(obs).logits"
   ]
  },
  {
   "cell_type": "code",
   "execution_count": 8,
   "metadata": {},
   "outputs": [
    {
     "data": {
      "text/plain": [
       "tensor([[[ 0.0000e+00,  1.2517e-06,  3.8296e-06,  2.4587e-06,  6.4671e-06,\n",
       "           1.7881e-06,  4.5002e-06,  3.7551e-06,  8.7023e-06,  4.3213e-06,\n",
       "           1.2949e-05,  4.6045e-06,  4.6343e-06,  1.8775e-06,  5.5134e-07,\n",
       "           5.3793e-06,  4.9323e-06,  6.5416e-06],\n",
       "         [ 0.0000e+00,  1.3225e-07,  1.9427e-06,  1.2070e-06,  2.5798e-06,\n",
       "           9.7975e-07,  2.2072e-06,  1.8626e-06,  4.2524e-06,  2.2631e-06,\n",
       "           5.9139e-06,  1.8496e-06,  1.8291e-06,  8.1584e-07, -1.0617e-07,\n",
       "           2.6729e-06,  2.9225e-06,  3.6415e-06]]], device='cuda:0')"
      ]
     },
     "execution_count": 8,
     "metadata": {},
     "output_type": "execute_result"
    }
   ],
   "source": [
    "attr = FeatureAblationText(forward)\n",
    "exp = attr.get_attributions([obs_pt])\n",
    "exp"
   ]
  },
  {
   "cell_type": "code",
   "execution_count": 9,
   "metadata": {},
   "outputs": [
    {
     "data": {
      "text/plain": [
       "['<s>',\n",
       " 'Building',\n",
       " 'Ġa',\n",
       " 'Ġwall',\n",
       " 'Ġon',\n",
       " 'Ġthe',\n",
       " 'ĠU',\n",
       " '.',\n",
       " 'S',\n",
       " '.-',\n",
       " 'Mexico',\n",
       " 'Ġborder',\n",
       " 'Ġwill',\n",
       " 'Ġtake',\n",
       " 'Ġliterally',\n",
       " 'Ġyears',\n",
       " '.',\n",
       " '</s>']"
      ]
     },
     "execution_count": 9,
     "metadata": {},
     "output_type": "execute_result"
    }
   ],
   "source": [
    "pipeline.tokenizer.convert_ids_to_tokens(obs_pt[0])"
   ]
  }
 ],
 "metadata": {
  "kernelspec": {
   "display_name": ".venv",
   "language": "python",
   "name": "python3"
  },
  "language_info": {
   "codemirror_mode": {
    "name": "ipython",
    "version": 3
   },
   "file_extension": ".py",
   "mimetype": "text/x-python",
   "name": "python",
   "nbconvert_exporter": "python",
   "pygments_lexer": "ipython3",
   "version": "3.10.14"
  }
 },
 "nbformat": 4,
 "nbformat_minor": 2
}
