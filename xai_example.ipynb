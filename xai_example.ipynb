{
 "cells": [
  {
   "cell_type": "markdown",
   "metadata": {},
   "source": [
    "### Question: does `model` returns `[0 prob, 1 prob]` before softmax?"
   ]
  },
  {
   "cell_type": "code",
   "execution_count": 1,
   "metadata": {},
   "outputs": [
    {
     "name": "stderr",
     "output_type": "stream",
     "text": [
      "c:\\Users\\1234o\\Studies\\Sem2\\NLP\\.venv\\Lib\\site-packages\\tqdm\\auto.py:21: TqdmWarning: IProgress not found. Please update jupyter and ipywidgets. See https://ipywidgets.readthedocs.io/en/stable/user_install.html\n",
      "  from .autonotebook import tqdm as notebook_tqdm\n"
     ]
    }
   ],
   "source": [
    "from transformers import (\n",
    "    AutoModelForSequenceClassification,\n",
    "    AutoTokenizer,\n",
    "    AutoConfig,\n",
    "    TextClassificationPipeline,\n",
    ")\n",
    "from engine.data import prepare_data_for_fine_tuning, read_data\n",
    "from engine.xai import FeatureAblationText\n",
    "import pandas as pd\n",
    "from engine.ner_detector import text_preprocess"
   ]
  },
  {
   "cell_type": "code",
   "execution_count": 2,
   "metadata": {},
   "outputs": [],
   "source": [
    "MODEL_ID = \"roberta-base\"\n",
    "MODEL_PATH = \"output/checkpoint-2025/model.safetensors\"\n",
    "tokenizer = AutoTokenizer.from_pretrained(MODEL_ID)"
   ]
  },
  {
   "cell_type": "code",
   "execution_count": 3,
   "metadata": {},
   "outputs": [
    {
     "name": "stdout",
     "output_type": "stream",
     "text": [
      "                                                   text  label\n",
      "0     U.S. House approves disaster funds as Trump cr...      0\n",
      "1     Nine Republican senators urge Trump to pursue ...      0\n",
      "2     Obama Makes UNPRECEDENTED Move To Protect The ...      1\n",
      "3     Conservative Icon And National Review Founder ...      1\n",
      "4     ICYMI: Seth Meyers Rips Apart Email from Paul ...      1\n",
      "...                                                 ...    ...\n",
      "8975  G4S suspends nine staff at UK migrant center, ...      0\n",
      "8976  U.S. will only talk to North Korea about freei...      0\n",
      "8977  Ukraine's Poroshenko vows to work for quick ex...      0\n",
      "8978  TRUMP HITS BACK After News of North Korea's Nu...      1\n",
      "8979  Kremlin: U.S. sanctions aimed at turning busin...      0\n",
      "\n",
      "[8980 rows x 2 columns]\n"
     ]
    },
    {
     "name": "stderr",
     "output_type": "stream",
     "text": [
      "Map: 100%|██████████| 8980/8980 [00:03<00:00, 2300.80 examples/s]\n"
     ]
    }
   ],
   "source": [
    "test = pd.read_csv(\"data/isot/test.csv\")\n",
    "test['text'] = text_preprocess(test['text'].to_list())\n",
    "print(test)\n",
    "test_dataset = prepare_data_for_fine_tuning(test, tokenizer)"
   ]
  },
  {
   "cell_type": "code",
   "execution_count": 4,
   "metadata": {},
   "outputs": [],
   "source": [
    "import torch\n",
    "def get_device():\n",
    "    if torch.cuda.is_available():\n",
    "        print(\"CUDA is available. Using GPU.\")\n",
    "        return \"cuda\"\n",
    "    else:\n",
    "        print(\"CUDA not available. Using CPU.\")\n",
    "        return \"cpu\""
   ]
  },
  {
   "cell_type": "markdown",
   "metadata": {},
   "source": []
  },
  {
   "cell_type": "code",
   "execution_count": 5,
   "metadata": {},
   "outputs": [
    {
     "name": "stdout",
     "output_type": "stream",
     "text": [
      "CUDA not available. Using CPU.\n"
     ]
    }
   ],
   "source": [
    "config = AutoConfig.from_pretrained(MODEL_ID)\n",
    "device = get_device()\n",
    "model = AutoModelForSequenceClassification.from_pretrained(\n",
    "    MODEL_PATH, config=config\n",
    ")\n",
    "model.eval()\n",
    "pipeline = TextClassificationPipeline(\n",
    "    model=model, tokenizer=tokenizer, top_k=2, device=device\n",
    ")"
   ]
  },
  {
   "cell_type": "code",
   "execution_count": 6,
   "metadata": {},
   "outputs": [],
   "source": [
    "%%capture\n",
    "if(device == \"cuda\"):\n",
    "    model.cuda()\n",
    "else:\n",
    "    model.cpu()"
   ]
  },
  {
   "cell_type": "code",
   "execution_count": 7,
   "metadata": {},
   "outputs": [
    {
     "name": "stdout",
     "output_type": "stream",
     "text": [
      "Nine Republican senators urge Trump to pursue tough Russia policy\n",
      "tensor([[    0, 37071,  1172,  7028,  8745,   140,     7,  5445,  1828,   798,\n",
      "           714,     2]])\n"
     ]
    }
   ],
   "source": [
    "obs = test[\"text\"].tolist()[1]\n",
    "if(device == \"cuda\"):\n",
    "    obs_pt = pipeline.tokenizer(obs, return_tensors=\"pt\")['input_ids'].cuda()\n",
    "else:\n",
    "    obs_pt = pipeline.tokenizer(obs, return_tensors=\"pt\")['input_ids'].cpu()\n",
    "\n",
    "print(obs)\n",
    "print(obs_pt)\n"
   ]
  },
  {
   "cell_type": "code",
   "execution_count": 8,
   "metadata": {},
   "outputs": [
    {
     "data": {
      "text/plain": [
       "'Nine Republican senators urge Trump to pursue tough Russia policy'"
      ]
     },
     "execution_count": 8,
     "metadata": {},
     "output_type": "execute_result"
    }
   ],
   "source": [
    "test[\"text\"].tolist()[1]"
   ]
  },
  {
   "cell_type": "code",
   "execution_count": 9,
   "metadata": {},
   "outputs": [],
   "source": [
    "def forward(obs):\n",
    "    return model(obs).logits"
   ]
  },
  {
   "cell_type": "code",
   "execution_count": 10,
   "metadata": {},
   "outputs": [
    {
     "name": "stdout",
     "output_type": "stream",
     "text": [
      "<engine.xai.FeatureAblationText object at 0x000002F72A9E6870>\n"
     ]
    },
    {
     "data": {
      "text/plain": [
       "tensor([[[ 0.0000e+00,  4.2170e-06,  4.0680e-06,  4.6194e-06,  2.8014e-06,\n",
       "           6.0052e-06,  4.3511e-06,  1.5795e-06,  2.8610e-06,  3.9935e-06,\n",
       "           4.8131e-06,  3.8892e-06],\n",
       "         [ 0.0000e+00, -3.7253e-08,  1.8068e-06,  1.6764e-06,  2.2501e-06,\n",
       "           3.5651e-06,  2.1514e-06,  1.0394e-06,  1.8328e-06,  3.1609e-06,\n",
       "           2.2277e-06,  1.7826e-06]]])"
      ]
     },
     "execution_count": 10,
     "metadata": {},
     "output_type": "execute_result"
    }
   ],
   "source": [
    "\n",
    "attr = FeatureAblationText(forward)\n",
    "print(attr)\n",
    "exp = attr.get_attributions([obs_pt])\n",
    "exp"
   ]
  },
  {
   "cell_type": "code",
   "execution_count": 11,
   "metadata": {},
   "outputs": [
    {
     "name": "stdout",
     "output_type": "stream",
     "text": [
      "['<s>', 'Nine', 'ĠRepublican', 'Ġsenators', 'Ġurge', 'ĠTrump', 'Ġto', 'Ġpursue', 'Ġtough', 'ĠRussia', 'Ġpolicy', '</s>']\n"
     ]
    }
   ],
   "source": [
    "tokens = pipeline.tokenizer.convert_ids_to_tokens(obs_pt[0])\n",
    "print(tokens)"
   ]
  },
  {
   "cell_type": "code",
   "execution_count": 12,
   "metadata": {},
   "outputs": [
    {
     "name": "stdout",
     "output_type": "stream",
     "text": [
      "Entities in the text:\n",
      "Nine (CARDINAL) - Numerals that do not fall under another type\n",
      "Republican (NORP) - Nationalities or religious or political groups\n",
      "Trump (ORG) - Companies, agencies, institutions, etc.\n",
      "Russia (GPE) - Countries, cities, states\n"
     ]
    }
   ],
   "source": [
    "import spacy\n",
    "\n",
    "NER = spacy.load(\"en_core_web_sm\")\n",
    "\n",
    "doc = NER(obs)\n",
    "\n",
    "print(\"Entities in the text:\")\n",
    "for ent in doc.ents:\n",
    "    print(f\"{ent.text} ({ent.label_}) - {spacy.explain(ent.label_)}\")"
   ]
  },
  {
   "cell_type": "code",
   "execution_count": 13,
   "metadata": {},
   "outputs": [
    {
     "name": "stdout",
     "output_type": "stream",
     "text": [
      "\n",
      "Tokens and Their NER Information: \n",
      "\n",
      "Token: Nine, Entity Type: CARDINAL (Numerals that do not fall under another type)\n",
      "Token: Republican, Entity Type: NORP (Nationalities or religious or political groups)\n",
      "Token: senators, Not part of any entity.\n",
      "Token: urge, Not part of any entity.\n",
      "Token: Trump, Entity Type: ORG (Companies, agencies, institutions, etc.)\n",
      "Token: to, Not part of any entity.\n",
      "Token: pursue, Not part of any entity.\n",
      "Token: tough, Not part of any entity.\n",
      "Token: Russia, Entity Type: GPE (Countries, cities, states)\n",
      "Token: policy, Not part of any entity.\n"
     ]
    }
   ],
   "source": [
    "print(\"\\nTokens and Their NER Information: \\n\")\n",
    "\n",
    "for token in doc:\n",
    "    if token.ent_type_:\n",
    "        print(f\"Token: {token.text}, Entity Type: {token.ent_type_} ({spacy.explain(token.ent_type_)})\")\n",
    "    else:\n",
    "        print(f\"Token: {token.text}, Not part of any entity.\")"
   ]
  },
  {
   "cell_type": "code",
   "execution_count": 14,
   "metadata": {},
   "outputs": [
    {
     "name": "stdout",
     "output_type": "stream",
     "text": [
      "12\n",
      "['Nine', 'Republican', 'senators', 'urge', 'Trump', 'to', 'pursue', 'tough', 'Russia', 'policy']\n",
      "tensor([[[ 0.0000e+00,  4.2170e-06,  4.0680e-06,  4.6194e-06,  2.8014e-06,\n",
      "           6.0052e-06,  4.3511e-06,  1.5795e-06,  2.8610e-06,  3.9935e-06,\n",
      "           4.8131e-06,  3.8892e-06],\n",
      "         [ 0.0000e+00, -3.7253e-08,  1.8068e-06,  1.6764e-06,  2.2501e-06,\n",
      "           3.5651e-06,  2.1514e-06,  1.0394e-06,  1.8328e-06,  3.1609e-06,\n",
      "           2.2277e-06,  1.7826e-06]]])\n",
      "1\n"
     ]
    }
   ],
   "source": [
    "print(len(tokens))\n",
    "\n",
    "tokens_clear = [s.replace(\"Ġ\", \"\") for s in tokens]\n",
    "tokens_clear = tokens_clear[1:len(tokens_clear)-1]\n",
    "print(tokens_clear)\n",
    "\n",
    "print(exp)\n",
    "print(len(exp))"
   ]
  },
  {
   "cell_type": "code",
   "execution_count": 15,
   "metadata": {},
   "outputs": [],
   "source": [
    "from engine.tokens_aggregate import TokenAggregate"
   ]
  },
  {
   "cell_type": "code",
   "execution_count": 16,
   "metadata": {},
   "outputs": [],
   "source": [
    "aggregate_list = TokenAggregate.generate_aggregate_list(doc,exp[0],tokens_clear,tokens)"
   ]
  },
  {
   "cell_type": "code",
   "execution_count": 18,
   "metadata": {},
   "outputs": [
    {
     "name": "stderr",
     "output_type": "stream",
     "text": [
      "1it [00:02,  2.43s/it]\n"
     ]
    }
   ],
   "source": [
    "from engine.xai import FeatureAblation\n",
    "from engine.tokens_aggregate import TokenAggregate\n",
    "from engine.ner_detector import tokenize_evaluate_and_detect_NERs,generate_aggregates\n",
    "\n",
    "all_aggregate = generate_aggregates(pipeline,[test[\"text\"].tolist()[1156]])"
   ]
  },
  {
   "cell_type": "code",
   "execution_count": 19,
   "metadata": {},
   "outputs": [
    {
     "name": "stdout",
     "output_type": "stream",
     "text": [
      "[[<engine.tokens_aggregate.TokenAggregate object at 0x000002F72AA0D9D0>, <engine.tokens_aggregate.TokenAggregate object at 0x000002F72B7ACF80>, <engine.tokens_aggregate.TokenAggregate object at 0x000002F72AA0C800>, <engine.tokens_aggregate.TokenAggregate object at 0x000002F72AA0D520>, <engine.tokens_aggregate.TokenAggregate object at 0x000002F72AA0DA60>, <engine.tokens_aggregate.TokenAggregate object at 0x000002F72AA0C530>, <engine.tokens_aggregate.TokenAggregate object at 0x000002F72AA0D5E0>, <engine.tokens_aggregate.TokenAggregate object at 0x000002F72AA0E660>, <engine.tokens_aggregate.TokenAggregate object at 0x000002F72AA0C8F0>, <engine.tokens_aggregate.TokenAggregate object at 0x000002F72AA0CAA0>, <engine.tokens_aggregate.TokenAggregate object at 0x000002F72AA0C4A0>, <engine.tokens_aggregate.TokenAggregate object at 0x000002F72AA0D130>, <engine.tokens_aggregate.TokenAggregate object at 0x000002F72AA0CE90>, <engine.tokens_aggregate.TokenAggregate object at 0x000002F72AA0DCA0>, <engine.tokens_aggregate.TokenAggregate object at 0x000002F72AA0C9B0>, <engine.tokens_aggregate.TokenAggregate object at 0x000002F72AA0D1C0>, <engine.tokens_aggregate.TokenAggregate object at 0x000002F72AA0D580>, <engine.tokens_aggregate.TokenAggregate object at 0x000002F72AA0C6B0>, <engine.tokens_aggregate.TokenAggregate object at 0x000002F72AA0DD90>, <engine.tokens_aggregate.TokenAggregate object at 0x000002F72AA0CD10>, <engine.tokens_aggregate.TokenAggregate object at 0x000002F72AA0D0D0>, <engine.tokens_aggregate.TokenAggregate object at 0x000002F72AA0D6D0>, <engine.tokens_aggregate.TokenAggregate object at 0x000002F72AA0DB20>, <engine.tokens_aggregate.TokenAggregate object at 0x000002F72B635760>, <engine.tokens_aggregate.TokenAggregate object at 0x000002F72B637C20>, <engine.tokens_aggregate.TokenAggregate object at 0x000002F72B637080>, <engine.tokens_aggregate.TokenAggregate object at 0x000002F72B637110>]]\n"
     ]
    }
   ],
   "source": [
    "print(all_aggregate)"
   ]
  },
  {
   "cell_type": "code",
   "execution_count": 20,
   "metadata": {},
   "outputs": [
    {
     "name": "stdout",
     "output_type": "stream",
     "text": [
      "Is spacy NER: ['GPE']\n",
      "spacy token: ['FRANCE']\n",
      "Our model clean: ['FR', 'ANCE']\n",
      "Our model dirty: ['FR', 'ANCE']\n",
      "model exp: [-8.344650268554688e-07, -1.2218952178955078e-06]\n",
      "\n",
      "Is spacy NER: ['']\n",
      "spacy token: [':']\n",
      "Our model clean: [':']\n",
      "Our model dirty: [':']\n",
      "model exp: [-2.7567148208618164e-06]\n",
      "\n",
      "Is spacy NER: ['']\n",
      "spacy token: ['\"']\n",
      "Our model clean: ['\"']\n",
      "Our model dirty: ['Ġ\"']\n",
      "model exp: [-2.2649765014648438e-06]\n",
      "\n",
      "Is spacy NER: ['WORK_OF_ART']\n",
      "spacy token: ['Topless']\n",
      "Our model clean: ['Top', 'less']\n",
      "Our model dirty: ['Top', 'less']\n",
      "model exp: [-2.2798776626586914e-06, -4.559755325317383e-06]\n",
      "\n",
      "Is spacy NER: ['WORK_OF_ART']\n",
      "spacy token: ['Trump']\n",
      "Our model clean: ['Trump']\n",
      "Our model dirty: ['ĠTrump']\n",
      "model exp: [-1.7583370208740234e-06]\n",
      "\n",
      "Is spacy NER: ['']\n",
      "spacy token: ['\"']\n",
      "Our model clean: ['\"']\n",
      "Our model dirty: ['\"']\n",
      "model exp: [-1.1771917343139648e-06]\n",
      "\n",
      "Is spacy NER: ['']\n",
      "spacy token: ['And']\n",
      "Our model clean: ['And']\n",
      "Our model dirty: ['ĠAnd']\n",
      "model exp: [-1.2814998626708984e-06]\n",
      "\n",
      "Is spacy NER: ['']\n",
      "spacy token: ['\"']\n",
      "Our model clean: ['\"']\n",
      "Our model dirty: ['Ġ\"']\n",
      "model exp: [-1.8477439880371094e-06]\n",
      "\n",
      "Is spacy NER: ['WORK_OF_ART']\n",
      "spacy token: ['Topless']\n",
      "Our model clean: ['Top', 'less']\n",
      "Our model dirty: ['Top', 'less']\n",
      "model exp: [-2.4437904357910156e-06, -5.409121513366699e-06]\n",
      "\n",
      "Is spacy NER: ['WORK_OF_ART']\n",
      "spacy token: ['Marine']\n",
      "Our model clean: ['Marine']\n",
      "Our model dirty: ['ĠMarine']\n",
      "model exp: [-3.978610038757324e-06]\n",
      "\n",
      "Is spacy NER: ['WORK_OF_ART']\n",
      "spacy token: ['Le']\n",
      "Our model clean: ['Le']\n",
      "Our model dirty: ['ĠLe']\n",
      "model exp: [-3.1888484954833984e-06]\n",
      "\n",
      "Is spacy NER: ['WORK_OF_ART']\n",
      "spacy token: ['Pen']\n",
      "Our model clean: ['Pen']\n",
      "Our model dirty: ['ĠPen']\n",
      "model exp: [-3.635883331298828e-06]\n",
      "\n",
      "Is spacy NER: ['WORK_OF_ART']\n",
      "spacy token: ['\"']\n",
      "Our model clean: ['\"']\n",
      "Our model dirty: ['\"']\n",
      "model exp: [-3.2186508178710938e-06]\n",
      "\n",
      "Is spacy NER: ['WORK_OF_ART']\n",
      "spacy token: ['Dragged']\n",
      "Our model clean: ['Drag', 'ged']\n",
      "Our model dirty: ['ĠDrag', 'ged']\n",
      "model exp: [-2.637505531311035e-06, -2.3245811462402344e-06]\n",
      "\n",
      "Is spacy NER: ['WORK_OF_ART']\n",
      "spacy token: ['Away']\n",
      "Our model clean: ['Away']\n",
      "Our model dirty: ['ĠAway']\n",
      "model exp: [-1.430511474609375e-06]\n",
      "\n",
      "Is spacy NER: ['WORK_OF_ART']\n",
      "spacy token: ['From']\n",
      "Our model clean: ['From']\n",
      "Our model dirty: ['ĠFrom']\n",
      "model exp: [-2.4586915969848633e-06]\n",
      "\n",
      "Is spacy NER: ['WORK_OF_ART']\n",
      "spacy token: ['Polling']\n",
      "Our model clean: ['Poll', 'ing']\n",
      "Our model dirty: ['ĠPoll', 'ing']\n",
      "model exp: [-2.0563602447509766e-06, -3.3974647521972656e-06]\n",
      "\n",
      "Is spacy NER: ['WORK_OF_ART']\n",
      "spacy token: ['Place']\n",
      "Our model clean: ['Place']\n",
      "Our model dirty: ['ĠPlace']\n",
      "model exp: [-1.7881393432617188e-06]\n",
      "\n",
      "Is spacy NER: ['']\n",
      "spacy token: [',']\n",
      "Our model clean: [',']\n",
      "Our model dirty: [',']\n",
      "model exp: [-4.0084123611450195e-06]\n",
      "\n",
      "Is spacy NER: ['']\n",
      "spacy token: ['As']\n",
      "Our model clean: ['As']\n",
      "Our model dirty: ['ĠAs']\n",
      "model exp: [-2.1010637283325195e-06]\n",
      "\n",
      "Is spacy NER: ['']\n",
      "spacy token: ['Country']\n",
      "Our model clean: ['Country']\n",
      "Our model dirty: ['ĠCountry']\n",
      "model exp: [-3.1888484954833984e-06]\n",
      "\n",
      "Is spacy NER: ['']\n",
      "spacy token: ['Under']\n",
      "Our model clean: ['Under']\n",
      "Our model dirty: ['ĠUnder']\n",
      "model exp: [-2.5779008865356445e-06]\n",
      "\n",
      "Is spacy NER: ['']\n",
      "spacy token: ['Siege']\n",
      "Our model clean: ['Siege']\n",
      "Our model dirty: ['ĠSiege']\n",
      "model exp: [-3.4868717193603516e-06]\n",
      "\n",
      "Is spacy NER: ['']\n",
      "spacy token: ['By']\n",
      "Our model clean: ['By']\n",
      "Our model dirty: ['ĠBy']\n",
      "model exp: [-2.7418136596679688e-06]\n",
      "\n",
      "Is spacy NER: ['']\n",
      "spacy token: ['Islamic']\n",
      "Our model clean: ['Islamic']\n",
      "Our model dirty: ['ĠIslamic']\n",
      "model exp: [-3.0547380447387695e-06]\n",
      "\n",
      "Is spacy NER: ['']\n",
      "spacy token: ['Radicals']\n",
      "Our model clean: ['Rad', 'icals']\n",
      "Our model dirty: ['ĠRad', 'icals']\n",
      "model exp: [-4.708766937255859e-06, -3.859400749206543e-06]\n",
      "\n",
      "Is spacy NER: ['']\n",
      "spacy token: ['Votes']\n",
      "Our model clean: ['Votes']\n",
      "Our model dirty: ['ĠVotes']\n",
      "model exp: [-2.5033950805664062e-06]\n",
      "\n"
     ]
    }
   ],
   "source": [
    "for doc_aggreagtes in all_aggregate:\n",
    "    for aggregate in doc_aggreagtes:\n",
    "        # if(len(aggregate.spacy_token)>1):\n",
    "        print(aggregate)"
   ]
  },
  {
   "cell_type": "code",
   "execution_count": 22,
   "metadata": {},
   "outputs": [],
   "source": [
    "test = pd.read_csv(\"data/isot/test.csv\")"
   ]
  },
  {
   "cell_type": "code",
   "execution_count": 23,
   "metadata": {},
   "outputs": [
    {
     "name": "stderr",
     "output_type": "stream",
     "text": [
      "1it [00:00, 1874.13it/s]\n",
      "100%|██████████| 1/1 [00:00<00:00, 1797.05it/s]\n",
      "1it [00:00,  8.58it/s]\n",
      "100%|██████████| 1/1 [00:00<?, ?it/s]\n"
     ]
    }
   ],
   "source": [
    "token_exp_NERs = tokenize_evaluate_and_detect_NERs(pipeline,test[\"text\"].tolist()[253:254],ners_to_calculate_ablation=['PERSON'])"
   ]
  },
  {
   "cell_type": "code",
   "execution_count": null,
   "metadata": {},
   "outputs": [
    {
     "name": "stderr",
     "output_type": "stream",
     "text": [
      "100it [00:00, 19866.92it/s]\n",
      "100%|██████████| 100/100 [00:00<00:00, 24957.18it/s]\n",
      "100it [00:12,  8.19it/s]\n",
      "100%|██████████| 100/100 [00:00<?, ?it/s]\n"
     ]
    },
    {
     "data": {
      "image/png": "[encoded data removed]",
      "text/plain": [
       "<Figure size 2000x600 with 1 Axes>"
      ]
     },
     "metadata": {},
     "output_type": "display_data"
    },
    {
     "name": "stderr",
     "output_type": "stream",
     "text": [
      "100it [00:00, ?it/s]\n",
      "100%|██████████| 100/100 [00:00<00:00, 13062.30it/s]\n",
      "100it [00:14,  6.89it/s]\n",
      "100%|██████████| 100/100 [00:00<00:00, 345.31it/s]\n"
     ]
    },
    {
     "data": {
      "image/png": "[encoded data removed]",
      "text/plain": [
       "<Figure size 2000x600 with 1 Axes>"
      ]
     },
     "metadata": {},
     "output_type": "display_data"
    },
    {
     "name": "stderr",
     "output_type": "stream",
     "text": [
      "100it [00:00, 19936.80it/s]\n",
      "100%|██████████| 100/100 [00:00<00:00, 24691.26it/s]\n",
      "100it [00:14,  6.84it/s]\n",
      "100%|██████████| 100/100 [00:00<?, ?it/s]\n"
     ]
    },
    {
     "data": {
      "image/png": "[encoded data removed]",
      "text/plain": [
       "<Figure size 2000x600 with 1 Axes>"
      ]
     },
     "metadata": {},
     "output_type": "display_data"
    }
   ],
   "source": [
    "import numpy as np\n",
    "import matplotlib.pyplot as plt\n",
    "import seaborn as sns\n",
    "\n",
    "tests_files = [\"data/coaid/test.csv\",\"data/isot/test.csv\",\"data/liar/test.csv\"]\n",
    "for file in tests_files:\n",
    "    test = pd.read_csv(file)\n",
    "    token_exp_NERs = tokenize_evaluate_and_detect_NERs(pipeline,test[\"text\"].tolist(),ners_to_calculate_ablation=['PERSON'])\n",
    "\n",
    "    all_ner_types = set()\n",
    "\n",
    "    for _,_,ner in token_exp_NERs:\n",
    "            all_ner_types.add(ner)\n",
    "            \n",
    "    exps = {}\n",
    "    for ner_type in all_ner_types:\n",
    "        exps[ner_type] = []\n",
    "\n",
    "\n",
    "\n",
    "    for token,exp,ner in token_exp_NERs:\n",
    "        exps[ner].append(exp)\n",
    "\n",
    "\n",
    "    plt.figure(figsize=(20,6))\n",
    "    sns.boxplot(exps)\n",
    "    plt.title(f\"test for {file}\")\n",
    "    plt.show()"
   ]
  }
 ],
 "metadata": {
  "kernelspec": {
   "display_name": ".venv",
   "language": "python",
   "name": "python3"
  },
  "language_info": {
   "codemirror_mode": {
    "name": "ipython",
    "version": 3
   },
   "file_extension": ".py",
   "mimetype": "text/x-python",
   "name": "python",
   "nbconvert_exporter": "python",
   "pygments_lexer": "ipython3",
   "version": "3.12.2"
  }
 },
 "nbformat": 4,
 "nbformat_minor": 2
}
