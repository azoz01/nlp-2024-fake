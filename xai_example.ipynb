{
 "cells": [
  {
   "cell_type": "markdown",
   "metadata": {},
   "source": [
    "### Question: does `model` returns `[0 prob, 1 prob]` before softmax?"
   ]
  },
  {
   "cell_type": "code",
   "execution_count": 19,
   "metadata": {},
   "outputs": [],
   "source": [
    "from transformers import (\n",
    "    AutoModelForSequenceClassification,\n",
    "    AutoTokenizer,\n",
    "    AutoConfig,\n",
    "    TextClassificationPipeline,\n",
    ")\n",
    "from engine.data import prepare_data_for_fine_tuning, read_data\n",
    "from engine.xai import FeatureAblationText"
   ]
  },
  {
   "cell_type": "code",
   "execution_count": 20,
   "metadata": {},
   "outputs": [],
   "source": [
    "MODEL_ID = \"roberta-base\"\n",
    "MODEL_PATH = \"output/checkpoint-2025/model.safetensors\"\n",
    "tokenizer = AutoTokenizer.from_pretrained(MODEL_ID)"
   ]
  },
  {
   "cell_type": "code",
   "execution_count": 21,
   "metadata": {},
   "outputs": [
    {
     "name": "stdout",
     "output_type": "stream",
     "text": [
      "                                                   text  label\n",
      "0     Building a wall on the U.S.-Mexico border will...      0\n",
      "1     Wisconsin is on pace to double the number of l...      1\n",
      "2     Says John McCain has done nothing to help the ...      1\n",
      "4     When asked by a reporter whether hes at the ce...      1\n",
      "5     Over the past five years the federal governmen...      0\n",
      "...                                                 ...    ...\n",
      "1256  Says Chris Christies plan to kick-start our ec...      1\n",
      "1257  Obama used $20 million in federal money to emm...      1\n",
      "1260  I think its seven or eight of the California s...      1\n",
      "1261  Sen. Bob Menendez voted to enact a new tax on ...      1\n",
      "1266  Says the governor is going around the state ta...      1\n",
      "\n",
      "[790 rows x 2 columns]\n"
     ]
    },
    {
     "name": "stderr",
     "output_type": "stream",
     "text": [
      "Map: 100%|██████████| 790/790 [00:00<00:00, 4277.29 examples/s]\n"
     ]
    }
   ],
   "source": [
    "test = read_data(\"data/split_raw/test.tsv\")\n",
    "print(test)\n",
    "test_dataset = prepare_data_for_fine_tuning(test, tokenizer)"
   ]
  },
  {
   "cell_type": "code",
   "execution_count": 22,
   "metadata": {},
   "outputs": [],
   "source": [
    "import torch\n",
    "def get_device():\n",
    "    if torch.cuda.is_available():\n",
    "        print(\"CUDA is available. Using GPU.\")\n",
    "        return \"cuda\"\n",
    "    else:\n",
    "        print(\"CUDA not available. Using CPU.\")\n",
    "        return \"cpu\""
   ]
  },
  {
   "cell_type": "code",
   "execution_count": 23,
   "metadata": {},
   "outputs": [
    {
     "name": "stdout",
     "output_type": "stream",
     "text": [
      "CUDA not available. Using CPU.\n"
     ]
    }
   ],
   "source": [
    "config = AutoConfig.from_pretrained(MODEL_ID)\n",
    "device = get_device()\n",
    "model = AutoModelForSequenceClassification.from_pretrained(\n",
    "    MODEL_PATH, config=config\n",
    ")\n",
    "model.eval()\n",
    "pipeline = TextClassificationPipeline(\n",
    "    model=model, tokenizer=tokenizer, top_k=2, device=device\n",
    ")"
   ]
  },
  {
   "cell_type": "code",
   "execution_count": 24,
   "metadata": {},
   "outputs": [],
   "source": [
    "%%capture\n",
    "if(device == \"cuda\"):\n",
    "    model.cuda()\n",
    "else:\n",
    "    model.cpu()"
   ]
  },
  {
   "cell_type": "code",
   "execution_count": 25,
   "metadata": {},
   "outputs": [
    {
     "name": "stdout",
     "output_type": "stream",
     "text": [
      "Building a wall on the U.S.-Mexico border will take literally years.\n",
      "tensor([[    0, 37500,    10,  2204,    15,     5,   121,     4,   104,  3358,\n",
      "         15780,  1424,    40,   185,  5909,   107,     4,     2]])\n"
     ]
    }
   ],
   "source": [
    "obs = test[\"text\"].tolist()[0]\n",
    "if(device == \"cuda\"):\n",
    "    obs_pt = pipeline.tokenizer(obs, return_tensors=\"pt\")['input_ids'].cuda()\n",
    "else:\n",
    "    obs_pt = pipeline.tokenizer(obs, return_tensors=\"pt\")['input_ids'].cpu()\n",
    "\n",
    "print(obs)\n",
    "print(obs_pt)\n"
   ]
  },
  {
   "cell_type": "code",
   "execution_count": 26,
   "metadata": {},
   "outputs": [],
   "source": [
    "def forward(obs):\n",
    "    return model(obs).logits"
   ]
  },
  {
   "cell_type": "code",
   "execution_count": 27,
   "metadata": {},
   "outputs": [
    {
     "name": "stdout",
     "output_type": "stream",
     "text": [
      "<engine.xai.FeatureAblationText object at 0x0000023606B1D7C0>\n"
     ]
    },
    {
     "data": {
      "text/plain": [
       "tensor([[[ 0.0000e+00,  1.2517e-06,  3.8594e-06,  2.4736e-06,  6.5118e-06,\n",
       "           1.7881e-06,  4.5747e-06,  3.7402e-06,  8.7619e-06,  4.3064e-06,\n",
       "           1.2890e-05,  4.6194e-06,  4.6492e-06,  1.9222e-06,  4.7684e-07,\n",
       "           5.4240e-06,  4.8280e-06,  6.5118e-06],\n",
       "         [ 0.0000e+00,  5.9605e-08,  1.9260e-06,  1.1623e-06,  2.6114e-06,\n",
       "           9.5740e-07,  2.2333e-06,  1.8384e-06,  4.2710e-06,  2.2557e-06,\n",
       "           5.8804e-06,  1.8310e-06,  1.8794e-06,  7.7300e-07, -1.0617e-07,\n",
       "           2.6375e-06,  2.9430e-06,  3.6247e-06]]])"
      ]
     },
     "execution_count": 27,
     "metadata": {},
     "output_type": "execute_result"
    }
   ],
   "source": [
    "\n",
    "attr = FeatureAblationText(forward)\n",
    "print(attr)\n",
    "exp = attr.get_attributions([obs_pt])\n",
    "exp"
   ]
  },
  {
   "cell_type": "code",
   "execution_count": 28,
   "metadata": {},
   "outputs": [
    {
     "name": "stdout",
     "output_type": "stream",
     "text": [
      "['<s>', 'Building', 'Ġa', 'Ġwall', 'Ġon', 'Ġthe', 'ĠU', '.', 'S', '.-', 'Mexico', 'Ġborder', 'Ġwill', 'Ġtake', 'Ġliterally', 'Ġyears', '.', '</s>']\n"
     ]
    }
   ],
   "source": [
    "tokens = pipeline.tokenizer.convert_ids_to_tokens(obs_pt[0])\n",
    "print(tokens)"
   ]
  },
  {
   "cell_type": "code",
   "execution_count": 29,
   "metadata": {},
   "outputs": [
    {
     "name": "stdout",
     "output_type": "stream",
     "text": [
      "Entities in the text:\n",
      "U.S.-Mexico (ORG) - Companies, agencies, institutions, etc.\n",
      "literally years (DATE) - Absolute or relative dates or periods\n"
     ]
    }
   ],
   "source": [
    "import spacy\n",
    "\n",
    "NER = spacy.load(\"en_core_web_sm\")\n",
    "\n",
    "doc = NER(obs)\n",
    "\n",
    "print(\"Entities in the text:\")\n",
    "for ent in doc.ents:\n",
    "    print(f\"{ent.text} ({ent.label_}) - {spacy.explain(ent.label_)}\")"
   ]
  },
  {
   "cell_type": "code",
   "execution_count": 30,
   "metadata": {},
   "outputs": [
    {
     "name": "stdout",
     "output_type": "stream",
     "text": [
      "\n",
      "Tokens and Their NER Information: \n",
      "\n",
      "Token: Building, Not part of any entity.\n",
      "Token: a, Not part of any entity.\n",
      "Token: wall, Not part of any entity.\n",
      "Token: on, Not part of any entity.\n",
      "Token: the, Not part of any entity.\n",
      "Token: U.S.-Mexico, Entity Type: ORG (Companies, agencies, institutions, etc.)\n",
      "Token: border, Not part of any entity.\n",
      "Token: will, Not part of any entity.\n",
      "Token: take, Not part of any entity.\n",
      "Token: literally, Entity Type: DATE (Absolute or relative dates or periods)\n",
      "Token: years, Entity Type: DATE (Absolute or relative dates or periods)\n",
      "Token: ., Not part of any entity.\n"
     ]
    }
   ],
   "source": [
    "print(\"\\nTokens and Their NER Information: \\n\")\n",
    "\n",
    "for token in doc:\n",
    "    if token.ent_type_:\n",
    "        print(f\"Token: {token.text}, Entity Type: {token.ent_type_} ({spacy.explain(token.ent_type_)})\")\n",
    "    else:\n",
    "        print(f\"Token: {token.text}, Not part of any entity.\")"
   ]
  },
  {
   "cell_type": "code",
   "execution_count": 31,
   "metadata": {},
   "outputs": [
    {
     "name": "stdout",
     "output_type": "stream",
     "text": [
      "18\n",
      "['Building', 'a', 'wall', 'on', 'the', 'U', '.', 'S', '.-', 'Mexico', 'border', 'will', 'take', 'literally', 'years', '.']\n",
      "tensor([[[ 0.0000e+00,  1.2517e-06,  3.8594e-06,  2.4736e-06,  6.5118e-06,\n",
      "           1.7881e-06,  4.5747e-06,  3.7402e-06,  8.7619e-06,  4.3064e-06,\n",
      "           1.2890e-05,  4.6194e-06,  4.6492e-06,  1.9222e-06,  4.7684e-07,\n",
      "           5.4240e-06,  4.8280e-06,  6.5118e-06],\n",
      "         [ 0.0000e+00,  5.9605e-08,  1.9260e-06,  1.1623e-06,  2.6114e-06,\n",
      "           9.5740e-07,  2.2333e-06,  1.8384e-06,  4.2710e-06,  2.2557e-06,\n",
      "           5.8804e-06,  1.8310e-06,  1.8794e-06,  7.7300e-07, -1.0617e-07,\n",
      "           2.6375e-06,  2.9430e-06,  3.6247e-06]]])\n",
      "1\n"
     ]
    }
   ],
   "source": [
    "print(len(tokens))\n",
    "\n",
    "tokens_clear = [s.replace(\"Ġ\", \"\") for s in tokens]\n",
    "tokens_clear = tokens_clear[1:len(tokens_clear)-1]\n",
    "print(tokens_clear)\n",
    "\n",
    "print(exp)\n",
    "print(len(exp))"
   ]
  },
  {
   "cell_type": "code",
   "execution_count": 32,
   "metadata": {},
   "outputs": [],
   "source": [
    "from engine.tokens_aggregate import TokenAggregate"
   ]
  },
  {
   "cell_type": "code",
   "execution_count": 33,
   "metadata": {},
   "outputs": [],
   "source": [
    "aggregate_list = TokenAggregate.generate_aggregate_list(doc,exp,tokens_clear,tokens)"
   ]
  },
  {
   "cell_type": "code",
   "execution_count": 34,
   "metadata": {},
   "outputs": [
    {
     "name": "stdout",
     "output_type": "stream",
     "text": [
      "Agregate nr: 0\n",
      "Is spacy NER: \n",
      "spacy token: Building\n",
      "Our model clean: ['Building']\n",
      "Our model dirty: ['Building']\n",
      "model exp [1.2516975402832031e-06]\n",
      "\n",
      "\n",
      "Agregate nr: 1\n",
      "Is spacy NER: \n",
      "spacy token: a\n",
      "Our model clean: ['a']\n",
      "Our model dirty: ['Ġa']\n",
      "model exp [3.859400749206543e-06]\n",
      "\n",
      "\n",
      "Agregate nr: 2\n",
      "Is spacy NER: \n",
      "spacy token: wall\n",
      "Our model clean: ['wall']\n",
      "Our model dirty: ['Ġwall']\n",
      "model exp [2.473592758178711e-06]\n",
      "\n",
      "\n",
      "Agregate nr: 3\n",
      "Is spacy NER: \n",
      "spacy token: on\n",
      "Our model clean: ['on']\n",
      "Our model dirty: ['Ġon']\n",
      "model exp [6.511807441711426e-06]\n",
      "\n",
      "\n",
      "Agregate nr: 4\n",
      "Is spacy NER: \n",
      "spacy token: the\n",
      "Our model clean: ['the']\n",
      "Our model dirty: ['Ġthe']\n",
      "model exp [1.7881393432617188e-06]\n",
      "\n",
      "\n",
      "Agregate nr: 5\n",
      "Is spacy NER: ORG\n",
      "spacy token: U.S.-Mexico\n",
      "Our model clean: ['U', '.', 'S', '.-', 'Mexico']\n",
      "Our model dirty: ['ĠU', '.', 'S', '.-', 'Mexico']\n",
      "model exp [4.5746564865112305e-06, 3.7401914596557617e-06, 8.761882781982422e-06, 4.306435585021973e-06, 1.2889504432678223e-05]\n",
      "\n",
      "\n",
      "Agregate nr: 6\n",
      "Is spacy NER: \n",
      "spacy token: border\n",
      "Our model clean: ['border']\n",
      "Our model dirty: ['Ġborder']\n",
      "model exp [4.6193599700927734e-06]\n",
      "\n",
      "\n",
      "Agregate nr: 7\n",
      "Is spacy NER: \n",
      "spacy token: will\n",
      "Our model clean: ['will']\n",
      "Our model dirty: ['Ġwill']\n",
      "model exp [4.649162292480469e-06]\n",
      "\n",
      "\n",
      "Agregate nr: 8\n",
      "Is spacy NER: \n",
      "spacy token: take\n",
      "Our model clean: ['take']\n",
      "Our model dirty: ['Ġtake']\n",
      "model exp [1.9222497940063477e-06]\n",
      "\n",
      "\n",
      "Agregate nr: 9\n",
      "Is spacy NER: DATE\n",
      "spacy token: literally\n",
      "Our model clean: ['literally']\n",
      "Our model dirty: ['Ġliterally']\n",
      "model exp [4.76837158203125e-07]\n",
      "\n",
      "\n",
      "Agregate nr: 10\n",
      "Is spacy NER: DATE\n",
      "spacy token: years\n",
      "Our model clean: ['years']\n",
      "Our model dirty: ['Ġyears']\n",
      "model exp [5.424022674560547e-06]\n",
      "\n",
      "\n",
      "Agregate nr: 11\n",
      "Is spacy NER: \n",
      "spacy token: .\n",
      "Our model clean: ['.']\n",
      "Our model dirty: ['.']\n",
      "model exp [4.827976226806641e-06]\n",
      "\n",
      "\n"
     ]
    }
   ],
   "source": [
    "i = 0\n",
    "for aggregate in aggregate_list:\n",
    "    print(f\"Agregate nr: {i}\")\n",
    "    print(f\"Is spacy NER: {aggregate.is_spacy_NER}\")\n",
    "    print(f\"spacy token: {aggregate.spacy_token}\")\n",
    "    print(f\"Our model clean: {aggregate.clean_model_tokens}\")\n",
    "    print(f\"Our model dirty: {aggregate.dirty_model_tokens}\")\n",
    "    print(f\"model exp {aggregate.model_exp}\")\n",
    "    print(\"\\n\")\n",
    "    i=i+1\n"
   ]
  },
  {
   "cell_type": "code",
   "execution_count": null,
   "metadata": {},
   "outputs": [
    {
     "name": "stderr",
     "output_type": "stream",
     "text": [
      "4it [00:02,  1.23it/s]"
     ]
    },
    {
     "name": "stdout",
     "output_type": "stream",
     "text": [
      "\n",
      " INVALID DOC!!! stopped at he\n",
      "\n",
      "hesatthecenterofacriminalschemetoviolatecampaignlaws,Gov.ScottWalkernoddedyes.\n",
      "spacy tokens left: ['he', 's', 'at', 'the', 'center', 'of', 'a', 'criminal', 'scheme', 'to', 'violate', 'campaign', 'laws', ',', 'Gov.', 'Scott', 'Walker', 'nodded', 'yes', '.']\n",
      "model tokens left: ['hes', 'at', 'the', 'center', 'of', 'a', 'criminal', 'scheme', 'to', 'violate', 'campaign', 'laws', ',', 'Gov', '.', 'Scott', 'Walker', 'nodded', 'yes', '.']\n",
      "Token: When False\n",
      "Token: asked False\n",
      "Token: by False\n",
      "Token: a False\n",
      "Token: reporter False\n",
      "Token: whether False\n",
      "Token: he False\n",
      "Token: s False\n",
      "Token: at False\n",
      "Token: the False\n",
      "Token: center False\n",
      "Token: of False\n",
      "Token: a False\n",
      "Token: criminal False\n",
      "Token: scheme False\n",
      "Token: to False\n",
      "Token: violate False\n",
      "Token: campaign False\n",
      "Token: laws False\n",
      "Token: , False\n",
      "Token: Gov. False\n",
      "Token: Scott True\n",
      "Token: Walker True\n",
      "Token: nodded False\n",
      "Token: yes False\n",
      "Token: . False\n"
     ]
    },
    {
     "name": "stderr",
     "output_type": "stream",
     "text": [
      "12it [00:10,  1.15it/s]"
     ]
    },
    {
     "name": "stdout",
     "output_type": "stream",
     "text": [
      "\n",
      " INVALID DOC!!! stopped at do\n",
      "\n",
      "don'thavehealthcare.\n",
      "spacy tokens left: ['do', \"n't\", 'have', 'health', 'care', '.']\n",
      "model tokens left: ['don', \"'t\", 'have', 'health', 'care', '.']\n",
      "Token: Each True\n",
      "Token: year True\n",
      "Token: , False\n",
      "Token: 18,000 True\n",
      "Token: people False\n",
      "Token: die False\n",
      "Token: in False\n",
      "Token: America True\n",
      "Token: because False\n",
      "Token: they False\n",
      "Token: do False\n",
      "Token: n't False\n",
      "Token: have False\n",
      "Token: health False\n",
      "Token: care False\n",
      "Token: . False\n"
     ]
    },
    {
     "name": "stderr",
     "output_type": "stream",
     "text": [
      "30it [00:33,  1.13s/it]\n"
     ]
    }
   ],
   "source": [
    "from tqdm import tqdm\n",
    "NER = spacy.load(\"en_core_web_sm\")\n",
    "all_aggregate = []\n",
    "for i,obs in tqdm(enumerate(test[\"text\"].tolist())):\n",
    "    if(device == \"cuda\"):\n",
    "        obs_pt = pipeline.tokenizer(obs, return_tensors=\"pt\")['input_ids'].cuda()\n",
    "    else:\n",
    "        obs_pt = pipeline.tokenizer(obs, return_tensors=\"pt\")['input_ids'].cpu()\n",
    "    attr = FeatureAblationText(forward)\n",
    "\n",
    "    exp = attr.get_attributions([obs_pt])\n",
    "    tokens = pipeline.tokenizer.convert_ids_to_tokens(obs_pt[0])\n",
    "\n",
    "\n",
    "    doc = NER(obs)\n",
    "    tokens_clear = [s.replace(\"Ġ\", \"\") for s in tokens]\n",
    "    tokens_clear = tokens_clear[1:len(tokens_clear)-1]\n",
    "    spacy_token_to_our_tokens = TokenAggregate.generate_aggregate_list(doc,exp,tokens_clear,tokens)\n",
    "    all_aggregate = all_aggregate+spacy_token_to_our_tokens\n"
   ]
  },
  {
   "cell_type": "code",
   "execution_count": null,
   "metadata": {},
   "outputs": [
    {
     "data": {
      "text/plain": [
       "<Axes: >"
      ]
     },
     "execution_count": 39,
     "metadata": {},
     "output_type": "execute_result"
    },
    {
     "data": {
      "image/png": "[encoded data removed]",
      "text/plain": [
       "<Figure size 640x480 with 1 Axes>"
      ]
     },
     "metadata": {},
     "output_type": "display_data"
    }
   ],
   "source": [
    "import numpy as np\n",
    "import matplotlib.pyplot as plt\n",
    "import seaborn as sns\n",
    "\n",
    "\n",
    "\n",
    "all_ner_types = set()\n",
    "\n",
    "for aggregate in all_aggregate:\n",
    "    all_ner_types.add(aggregate.is_spacy_NER)\n",
    "\n",
    "exps = {}\n",
    "\n",
    "for ner_type in all_ner_types:\n",
    "    exps[ner_type] = []\n",
    "\n",
    "for aggregate in all_aggregate:\n",
    "    value = np.max(aggregate.model_exp)\n",
    "    exps[aggregate.is_spacy_NER].append(value)\n",
    "\n",
    "\n",
    "sns.boxplot(exps)\n",
    "\n"
   ]
  }
 ],
 "metadata": {
  "kernelspec": {
   "display_name": ".venv",
   "language": "python",
   "name": "python3"
  },
  "language_info": {
   "codemirror_mode": {
    "name": "ipython",
    "version": 3
   },
   "file_extension": ".py",
   "mimetype": "text/x-python",
   "name": "python",
   "nbconvert_exporter": "python",
   "pygments_lexer": "ipython3",
   "version": "3.12.2"
  }
 },
 "nbformat": 4,
 "nbformat_minor": 2
}
